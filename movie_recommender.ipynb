{
 "cells": [
  {
   "cell_type": "markdown",
   "metadata": {},
   "source": [
    "# Movie Recommender\n",
    "\n",
    "**Goal:** Build a movie recommendation system.\n",
    "\n",
    "**Summary:** The primary purpose of this notebook is to build a model that \n",
    "makes movie recommendations based on ratings supplied by a user. We build \n",
    "our recommendation system using *matrix factorization*, a collaborative \n",
    "filtering algorithm. \n",
    "\n",
    "The main idea of the matrix factorization algorithm is to decompose the \n",
    "user-movie ratings (sparse) matrix $R$ into a product $UV$, where $U$ and \n",
    "$V$ are low-rank matrices. Optimal $U$ and $V$ are found by minimizing the \n",
    "error arising from the approximation $R \\approx UV$. This is a difficult \n",
    "optimization problem, since the objective function is non-convex. Instead, \n",
    "we solve a convex optimization problem by alternately treating $U$ and $V$ \n",
    "as constants during gradient descent, an approach known as \n",
    "*Alternating Least Squares (ALS)*. \n",
    "\n",
    "We summarize below our findings and the actions taken to achieve the stated \n",
    "goal.\n",
    "\n",
    "1) **Explore the data:** We load the *ratings* and *movies* datasets\n",
    "into a Spark DataFrame. We visualize the ratings distribution, and take\n",
    "a look at some statistics for the ratings count per user and per movie.\n",
    "We take a look at the most-rated movies and the highest-rated movies.\n",
    "\n",
    "\n",
    "2) **Split the data into training and test sets:**  We split the *ratings* \n",
    "dataset into training (80%) and test (20%) sets.\n",
    "\n",
    "\n",
    "3) **Select a model:** We use a cross-validator to determine optimal\n",
    "hyperparameters. The optimal choice for the rank and the regularization\n",
    "parameter turn out to be 10 and 0.1, respectively.\n",
    "\n",
    "\n",
    "4) **Evaluate the model:** We evaluate our best model by computing its\n",
    "Root Mean Square Error (RMSE) on the test set, and comparing it with\n",
    "the corresponding error for the baseline model. Our best model improves \n",
    "the baseline model by approximately 15%.\n",
    "\n",
    "\n",
    "5) **Make recommendations:** Suppose that we want to make recommendations\n",
    "based on the ratings $y$ supplied by a new user. One approach is to append \n",
    "$y$ to the training set, retrain the model, and then make recommendations. \n",
    "However, with this approach, recommendations will not be available immediately. \n",
    "Instead, we use the following approach, which will enable to make immediate \n",
    "recommendations:\n",
    "\n",
    "* Find an approximation $\\theta$ of the user factor vector for \n",
    "the new user.\n",
    "\n",
    "* Compute the product $\\theta V$ to obtain predicted ratings for the new \n",
    "user, and then make recommendations."
   ]
  },
  {
   "cell_type": "code",
   "execution_count": 1,
   "metadata": {},
   "outputs": [],
   "source": [
    "# Load required packages and modules.\n",
    "import pathlib\n",
    "import numpy as np\n",
    "import pandas as pd\n",
    "import matplotlib.pyplot as plt\n",
    "import seaborn as sns\n",
    "import pyspark.sql.functions as F\n",
    "from pyspark.sql import SparkSession\n",
    "from pyspark.sql.types import StructType, StructField\n",
    "from pyspark.sql.types import IntegerType, DoubleType, StringType\n",
    "from pyspark.ml.recommendation import ALS\n",
    "from pyspark.ml.evaluation import RegressionEvaluator\n",
    "from pyspark.ml.tuning import ParamGridBuilder\n",
    "from pyspark.ml.tuning import CrossValidator\n",
    "from matplotlib.ticker import PercentFormatter\n",
    "from warnings import simplefilter\n",
    "\n",
    "# Suppress performance and data type warnings.\n",
    "simplefilter(action='ignore', category=pd.errors.PerformanceWarning)\n",
    "\n",
    "# Set the backend of matplotlib to 'inline'.\n",
    "%matplotlib inline\n",
    "\n",
    "# Create plots using seaborn's default aesthetic arguments. \n",
    "sns.set()\n",
    "\n",
    "# Make this notebook's output identical across runs.\n",
    "np.random.seed(1)\n",
    "SEED = 1"
   ]
  },
  {
   "cell_type": "markdown",
   "metadata": {},
   "source": [
    "## 1. Explore the Dataset"
   ]
  },
  {
   "cell_type": "code",
   "execution_count": 2,
   "metadata": {},
   "outputs": [],
   "source": [
    "# Path to the data.\n",
    "DATA_DIR_PATH = pathlib.Path('/home/dn/notebooks/movie_recommender/data/ml-latest')\n",
    "RATINGS_PATH = DATA_DIR_PATH.joinpath('ratings.csv')\n",
    "MOVIES_PATH = DATA_DIR_PATH.joinpath('movies.csv')\n",
    "\n",
    "# Path to the directory in which to save models.\n",
    "SAVED_MODELS_DIR_PATH = pathlib.Path('/home/dn/notebooks/movie_recommender/saved_models')"
   ]
  },
  {
   "cell_type": "markdown",
   "metadata": {},
   "source": [
    "Let's take a look at the first five lines of the *ratings.csv* file:"
   ]
  },
  {
   "cell_type": "code",
   "execution_count": 3,
   "metadata": {},
   "outputs": [
    {
     "name": "stdout",
     "output_type": "stream",
     "text": [
      "userId,movieId,rating,timestamp\r",
      "\r\n",
      "1,307,3.5,1256677221\r",
      "\r\n",
      "1,481,3.5,1256677456\r",
      "\r\n",
      "1,1091,1.5,1256677471\r",
      "\r\n",
      "1,1257,4.5,1256677460\r",
      "\r\n"
     ]
    }
   ],
   "source": [
    "!head -n 5 {RATINGS_PATH}"
   ]
  },
  {
   "cell_type": "markdown",
   "metadata": {},
   "source": [
    "Let's take a look at the first five lines of the *movies.csv* file:"
   ]
  },
  {
   "cell_type": "code",
   "execution_count": 4,
   "metadata": {},
   "outputs": [
    {
     "name": "stdout",
     "output_type": "stream",
     "text": [
      "movieId,title,genres\r",
      "\r\n",
      "1,Toy Story (1995),Adventure|Animation|Children|Comedy|Fantasy\r",
      "\r\n",
      "2,Jumanji (1995),Adventure|Children|Fantasy\r",
      "\r\n",
      "3,Grumpier Old Men (1995),Comedy|Romance\r",
      "\r\n",
      "4,Waiting to Exhale (1995),Comedy|Drama|Romance\r",
      "\r\n"
     ]
    }
   ],
   "source": [
    "!head -n 5 {MOVIES_PATH}"
   ]
  },
  {
   "cell_type": "code",
   "execution_count": 5,
   "metadata": {},
   "outputs": [],
   "source": [
    "spark = (SparkSession\n",
    "         .builder\n",
    "         .appName('Movie Recommendation')\n",
    "         .config('spark.driver.memory', '5g')\n",
    "         .getOrCreate())"
   ]
  },
  {
   "cell_type": "markdown",
   "metadata": {},
   "source": [
    "Let's create schemas for the *ratings.csv* and *movies.csv* files, before\n",
    "reading them into a Spark DataFrame:"
   ]
  },
  {
   "cell_type": "code",
   "execution_count": 6,
   "metadata": {},
   "outputs": [],
   "source": [
    "ratings_schema = StructType([\n",
    "    StructField('userId', IntegerType()),\n",
    "    StructField('movieId', IntegerType()),\n",
    "    StructField('rating', DoubleType()),\n",
    "    StructField('timestamp', IntegerType())\n",
    "])\n",
    "movies_schema = StructType([\n",
    "    StructField('movieId', IntegerType()),\n",
    "    StructField('title', StringType()),\n",
    "    StructField('genre', StringType())\n",
    "])"
   ]
  },
  {
   "cell_type": "markdown",
   "metadata": {},
   "source": [
    "Read the *ratings* and *movies* data into a Spark DataFrame:"
   ]
  },
  {
   "cell_type": "code",
   "execution_count": 7,
   "metadata": {},
   "outputs": [],
   "source": [
    "ratings_df = spark.read.csv(path=str(RATINGS_PATH), \n",
    "                            header=True, \n",
    "                            schema=ratings_schema)\n",
    "              \n",
    "movies_df = spark.read.csv(path=str(MOVIES_PATH), \n",
    "                           header=True, \n",
    "                           schema=movies_schema)"
   ]
  },
  {
   "cell_type": "markdown",
   "metadata": {},
   "source": [
    "We don't need the **timestamp** column in the *ratings* DataFrame, so let's\n",
    "drop it:"
   ]
  },
  {
   "cell_type": "code",
   "execution_count": 8,
   "metadata": {},
   "outputs": [],
   "source": [
    "ratings_df = ratings_df.drop('timestamp')"
   ]
  },
  {
   "cell_type": "markdown",
   "metadata": {},
   "source": [
    "What is the total number of ratings? What is the total number of movies?"
   ]
  },
  {
   "cell_type": "code",
   "execution_count": 9,
   "metadata": {},
   "outputs": [
    {
     "name": "stdout",
     "output_type": "stream",
     "text": [
      "Number of ratings: 27753444\n",
      "Number of movies: 58098\n"
     ]
    }
   ],
   "source": [
    "n_ratings = ratings_df.count()\n",
    "n_movies = movies_df.count()\n",
    "print('Number of ratings:', n_ratings)\n",
    "print('Number of movies:', n_movies)"
   ]
  },
  {
   "cell_type": "markdown",
   "metadata": {},
   "source": [
    "Let's take a look at a few randomly chosen rows of the *ratings* dataset:"
   ]
  },
  {
   "cell_type": "code",
   "execution_count": 10,
   "metadata": {},
   "outputs": [
    {
     "name": "stdout",
     "output_type": "stream",
     "text": [
      "+------+-------+------+\n",
      "|userId|movieId|rating|\n",
      "+------+-------+------+\n",
      "|  8450|   8340|   2.5|\n",
      "| 16795|   1214|   5.0|\n",
      "| 42656| 130508|   3.5|\n",
      "| 50482|   1200|   4.5|\n",
      "| 96682|   1214|   4.0|\n",
      "|104515|   4363|   3.5|\n",
      "|125062| 104879|   4.5|\n",
      "|132956|   2420|   3.0|\n",
      "|150824|   2686|   4.0|\n",
      "|157809|   2718|   3.0|\n",
      "|209488|   1079|   3.0|\n",
      "+------+-------+------+\n",
      "\n"
     ]
    }
   ],
   "source": [
    "ratings_df.sample(fraction=10/n_ratings, seed=SEED).show()"
   ]
  },
  {
   "cell_type": "markdown",
   "metadata": {},
   "source": [
    "Let's take a look at a few randomly chosen rows of the *movies* dataset:"
   ]
  },
  {
   "cell_type": "code",
   "execution_count": 11,
   "metadata": {},
   "outputs": [
    {
     "name": "stdout",
     "output_type": "stream",
     "text": [
      "+-------+-------------------------------------------+-----------------------+\n",
      "|movieId|title                                      |genre                  |\n",
      "+-------+-------------------------------------------+-----------------------+\n",
      "|814    |Boy Called Hate, A (1995)                  |Drama                  |\n",
      "|1284   |Big Sleep, The (1946)                      |Crime|Film-Noir|Mystery|\n",
      "|102376 |Enter the Phoenix (Da lao ai mei li) (2004)|Action|Comedy          |\n",
      "|138008 |New Year (2011)                            |(no genres listed)     |\n",
      "|159658 |A Performance of Macbeth (1979)            |Drama                  |\n",
      "|174711 |You Get Me (2017)                          |Drama|Romance|Thriller |\n",
      "+-------+-------------------------------------------+-----------------------+\n",
      "\n"
     ]
    }
   ],
   "source": [
    "movies_df.sample(fraction=10/n_movies, seed=SEED).show(truncate=False)"
   ]
  },
  {
   "cell_type": "markdown",
   "metadata": {},
   "source": [
    "What is the total number of users? What is the total number of rated movies?"
   ]
  },
  {
   "cell_type": "code",
   "execution_count": 12,
   "metadata": {},
   "outputs": [
    {
     "name": "stdout",
     "output_type": "stream",
     "text": [
      "Number of users: 283228\n",
      "Number of rated movies: 53889\n"
     ]
    }
   ],
   "source": [
    "n_users = ratings_df.select('userId').distinct().count()\n",
    "n_rated_movies = ratings_df.select('movieId').distinct().count()\n",
    "print('Number of users:', n_users)\n",
    "print('Number of rated movies:', n_rated_movies)"
   ]
  },
  {
   "cell_type": "markdown",
   "metadata": {},
   "source": [
    "What is the rating scale?"
   ]
  },
  {
   "cell_type": "code",
   "execution_count": 13,
   "metadata": {},
   "outputs": [
    {
     "name": "stdout",
     "output_type": "stream",
     "text": [
      "+------+\n",
      "|rating|\n",
      "+------+\n",
      "|   0.5|\n",
      "|   1.0|\n",
      "|   1.5|\n",
      "|   2.0|\n",
      "|   2.5|\n",
      "|   3.0|\n",
      "|   3.5|\n",
      "|   4.0|\n",
      "|   4.5|\n",
      "|   5.0|\n",
      "+------+\n",
      "\n"
     ]
    }
   ],
   "source": [
    "ratings_df.select('rating').distinct().orderBy('rating').show()"
   ]
  },
  {
   "cell_type": "markdown",
   "metadata": {},
   "source": [
    "Let's take a look at some statistics for the ratings:"
   ]
  },
  {
   "cell_type": "code",
   "execution_count": 14,
   "metadata": {},
   "outputs": [
    {
     "name": "stdout",
     "output_type": "stream",
     "text": [
      "+-------+-----------+\n",
      "|summary|     rating|\n",
      "+-------+-----------+\n",
      "|  count|2.7753444E7|\n",
      "|   mean|       3.53|\n",
      "| stddev|       1.07|\n",
      "|    min|        0.5|\n",
      "|    25%|        3.0|\n",
      "|    50%|        3.5|\n",
      "|    75%|        4.0|\n",
      "|    max|        5.0|\n",
      "+-------+-----------+\n",
      "\n"
     ]
    }
   ],
   "source": [
    "(ratings_df\n",
    " .select('rating')\n",
    " .summary()\n",
    " .select('summary', F.round('rating', 2).alias('rating'))\n",
    " .show())"
   ]
  },
  {
   "cell_type": "markdown",
   "metadata": {},
   "source": [
    "Let's visualize the distribution of ratings:"
   ]
  },
  {
   "cell_type": "code",
   "execution_count": 15,
   "metadata": {},
   "outputs": [
    {
     "data": {
      "image/png": "[encoded data removed]",
      "text/plain": [
       "<Figure size 504x360 with 1 Axes>"
      ]
     },
     "metadata": {},
     "output_type": "display_data"
    }
   ],
   "source": [
    "fig = plt.figure(figsize=(7, 5))\n",
    "ax = fig.add_subplot(1, 1, 1)\n",
    "pd_df = (ratings_df\n",
    "         .select('rating')\n",
    "         .groupBy('rating')\n",
    "         .count()\n",
    "         .orderBy('rating')).toPandas()\n",
    "\n",
    "sns.barplot(x=pd_df['rating'], y=pd_df['count'], ax=ax)     \n",
    "ax.set_title('')\n",
    "ax.set_xlabel('Rating')\n",
    "ax.set_ylabel('Percentage of total number of ratings')\n",
    "ax.yaxis.set_major_formatter(PercentFormatter(xmax=n_ratings, decimals=0)) "
   ]
  },
  {
   "cell_type": "markdown",
   "metadata": {},
   "source": [
    "* Ratings range from 0.5 to 5.0, with increments of 0.5. \n",
    "\n",
    "* The median rating is 3.5.\n",
    "\n",
    "* The most common rating is 4.0, accounting for approximately 27% of all\n",
    "ratings."
   ]
  },
  {
   "cell_type": "markdown",
   "metadata": {},
   "source": [
    "Let's gather the ratings count and average for each user and each movie:"
   ]
  },
  {
   "cell_type": "code",
   "execution_count": 16,
   "metadata": {},
   "outputs": [],
   "source": [
    "ratings_count_and_avg = {'Users': None, 'Movies': None}\n",
    "\n",
    "ratings_count_and_avg['Users'] = (\n",
    "    ratings_df\n",
    "    .select('userId', 'rating')\n",
    "    .groupBy('userId')\n",
    "    .agg(F.count('rating').alias('num_of_ratings'), \n",
    "         F.avg('rating').alias('avg_rating'))\n",
    ")\n",
    "\n",
    "ratings_count_and_avg['Movies'] = (\n",
    "    ratings_df\n",
    "    .select('movieId', 'rating')\n",
    "    .groupBy('movieId')\n",
    "    .agg(F.count('rating').alias('num_of_ratings'), \n",
    "         F.avg('rating').alias('avg_rating'))\n",
    ")\n",
    "\n",
    "ratings_count_and_avg_pd = {}\n",
    "\n",
    "for key in ratings_count_and_avg.keys():\n",
    "    ratings_count_and_avg_pd[key] = ratings_count_and_avg[key].toPandas()"
   ]
  },
  {
   "cell_type": "markdown",
   "metadata": {},
   "source": [
    "Let's take a look at some statistics for the ratings count:"
   ]
  },
  {
   "cell_type": "code",
   "execution_count": 17,
   "metadata": {},
   "outputs": [
    {
     "data": {
      "text/html": [
       "<div>\n",
       "<style scoped>\n",
       "    .dataframe tbody tr th:only-of-type {\n",
       "        vertical-align: middle;\n",
       "    }\n",
       "\n",
       "    .dataframe tbody tr th {\n",
       "        vertical-align: top;\n",
       "    }\n",
       "\n",
       "    .dataframe thead th {\n",
       "        text-align: right;\n",
       "    }\n",
       "</style>\n",
       "<table border=\"1\" class=\"dataframe\">\n",
       "  <thead>\n",
       "    <tr style=\"text-align: right;\">\n",
       "      <th></th>\n",
       "      <th>num_of_ratings_per_user</th>\n",
       "      <th>num_of_ratings_per_movie</th>\n",
       "    </tr>\n",
       "  </thead>\n",
       "  <tbody>\n",
       "    <tr>\n",
       "      <th>count</th>\n",
       "      <td>283228</td>\n",
       "      <td>53889</td>\n",
       "    </tr>\n",
       "    <tr>\n",
       "      <th>mean</th>\n",
       "      <td>98</td>\n",
       "      <td>515</td>\n",
       "    </tr>\n",
       "    <tr>\n",
       "      <th>std</th>\n",
       "      <td>213</td>\n",
       "      <td>2935</td>\n",
       "    </tr>\n",
       "    <tr>\n",
       "      <th>min</th>\n",
       "      <td>1</td>\n",
       "      <td>1</td>\n",
       "    </tr>\n",
       "    <tr>\n",
       "      <th>50%</th>\n",
       "      <td>30</td>\n",
       "      <td>7</td>\n",
       "    </tr>\n",
       "    <tr>\n",
       "      <th>85%</th>\n",
       "      <td>165</td>\n",
       "      <td>205</td>\n",
       "    </tr>\n",
       "    <tr>\n",
       "      <th>max</th>\n",
       "      <td>23715</td>\n",
       "      <td>97999</td>\n",
       "    </tr>\n",
       "  </tbody>\n",
       "</table>\n",
       "</div>"
      ],
      "text/plain": [
       "       num_of_ratings_per_user  num_of_ratings_per_movie\n",
       "count                   283228                     53889\n",
       "mean                        98                       515\n",
       "std                        213                      2935\n",
       "min                          1                         1\n",
       "50%                         30                         7\n",
       "85%                        165                       205\n",
       "max                      23715                     97999"
      ]
     },
     "execution_count": 17,
     "metadata": {},
     "output_type": "execute_result"
    }
   ],
   "source": [
    "# Round to zero decimal places in pandas. \n",
    "pd.options.display.float_format = '{:.0f}'.format\n",
    "\n",
    "percentiles=[0.5, 0.85]\n",
    "pd.merge(ratings_count_and_avg_pd['Users']['num_of_ratings']\n",
    "         .describe(percentiles=percentiles), \n",
    "         ratings_count_and_avg_pd['Movies']['num_of_ratings']\n",
    "         .describe(percentiles=percentiles),\n",
    "         left_index=True,\n",
    "         right_index=True,\n",
    "         suffixes=('_per_user', '_per_movie'))"
   ]
  },
  {
   "cell_type": "markdown",
   "metadata": {},
   "source": [
    "Next, we wish to take a look at the histograms of the ratings count.\n",
    "To make the histograms effective, we will handle outliers by manually \n",
    "choose bin edges and clip points:"
   ]
  },
  {
   "cell_type": "code",
   "execution_count": 18,
   "metadata": {},
   "outputs": [],
   "source": [
    "bin_edges_and_clips = {\n",
    "    'Users': {'bin_edges': np.arange(0, 401, 8), 'a_max': 400},\n",
    "    'Movies': {'bin_edges': np.arange(0, 201, 4), 'a_max': 200}\n",
    "}"
   ]
  },
  {
   "cell_type": "markdown",
   "metadata": {},
   "source": [
    "Now that bin edges and clip points have been chosen, let's plot the \n",
    "histograms:"
   ]
  },
  {
   "cell_type": "code",
   "execution_count": 19,
   "metadata": {},
   "outputs": [
    {
     "data": {
      "image/png": "[encoded data removed]",
      "text/plain": [
       "<Figure size 864x360 with 2 Axes>"
      ]
     },
     "metadata": {},
     "output_type": "display_data"
    }
   ],
   "source": [
    "fig = plt.figure(figsize=(12, 5))\n",
    "fig.suptitle('Histograms of Ratings Count', fontsize=16)\n",
    "\n",
    "for counter, key in enumerate(ratings_count_and_avg_pd.keys(), 1):\n",
    "    ax = fig.add_subplot(1, 2, counter)\n",
    "    pd_df = ratings_count_and_avg_pd[key]['num_of_ratings']\n",
    "    x = np.clip(pd_df, a_min=None, a_max=bin_edges_and_clips[key]['a_max']) \n",
    "    sns.histplot(bins=bin_edges_and_clips[key]['bin_edges'], \n",
    "                 x=x, stat='count', alpha=1, ax=ax)\n",
    "    ax.patches[-1].set_facecolor('r')\n",
    "    fig.canvas.draw() \n",
    "    ax.set_title('')  \n",
    "    ax.set_xlabel('Number of Ratings')\n",
    "    ax.set_ylabel(f'Percentage of {key}')  \n",
    "    xmax = len(pd_df)\n",
    "    ax.yaxis.set_major_formatter(PercentFormatter(xmax=xmax, decimals=0))\n",
    "    \n",
    "fig.tight_layout()\n",
    "fig.subplots_adjust(top=0.8, wspace=0.5, hspace=0.4)"
   ]
  },
  {
   "cell_type": "markdown",
   "metadata": {},
   "source": [
    "* The red-colored bars include all values greater than or equal to the \n",
    "left edge of the bar.\n",
    "\n",
    "* The median number of ratings per user is 30, with minimum 1, and\n",
    "maximum 23,715.\n",
    "\n",
    "* The median number of ratings per movies is 7, with minimum 1, and\n",
    "maximum 97,999.\n",
    "\n",
    "* 85% of the users gave 165 or fewer ratings each.\n",
    "\n",
    "* 85% of the movies received 205 or fewer ratings each."
   ]
  },
  {
   "cell_type": "markdown",
   "metadata": {},
   "source": [
    "What are the top fifteen most-rated movies?"
   ]
  },
  {
   "cell_type": "code",
   "execution_count": 20,
   "metadata": {
    "scrolled": true
   },
   "outputs": [
    {
     "data": {
      "text/html": [
       "<div>\n",
       "<style scoped>\n",
       "    .dataframe tbody tr th:only-of-type {\n",
       "        vertical-align: middle;\n",
       "    }\n",
       "\n",
       "    .dataframe tbody tr th {\n",
       "        vertical-align: top;\n",
       "    }\n",
       "\n",
       "    .dataframe thead th {\n",
       "        text-align: right;\n",
       "    }\n",
       "</style>\n",
       "<table border=\"1\" class=\"dataframe\">\n",
       "  <thead>\n",
       "    <tr style=\"text-align: right;\">\n",
       "      <th></th>\n",
       "      <th>movieId</th>\n",
       "      <th>num_of_ratings</th>\n",
       "      <th>avg_rating</th>\n",
       "      <th>title</th>\n",
       "    </tr>\n",
       "  </thead>\n",
       "  <tbody>\n",
       "    <tr>\n",
       "      <th>0</th>\n",
       "      <td>318</td>\n",
       "      <td>97999</td>\n",
       "      <td>4.42</td>\n",
       "      <td>Shawshank Redemption, The (1994)</td>\n",
       "    </tr>\n",
       "    <tr>\n",
       "      <th>1</th>\n",
       "      <td>356</td>\n",
       "      <td>97040</td>\n",
       "      <td>4.06</td>\n",
       "      <td>Forrest Gump (1994)</td>\n",
       "    </tr>\n",
       "    <tr>\n",
       "      <th>2</th>\n",
       "      <td>296</td>\n",
       "      <td>92406</td>\n",
       "      <td>4.17</td>\n",
       "      <td>Pulp Fiction (1994)</td>\n",
       "    </tr>\n",
       "    <tr>\n",
       "      <th>3</th>\n",
       "      <td>593</td>\n",
       "      <td>87899</td>\n",
       "      <td>4.15</td>\n",
       "      <td>Silence of the Lambs, The (1991)</td>\n",
       "    </tr>\n",
       "    <tr>\n",
       "      <th>4</th>\n",
       "      <td>2571</td>\n",
       "      <td>84545</td>\n",
       "      <td>4.15</td>\n",
       "      <td>Matrix, The (1999)</td>\n",
       "    </tr>\n",
       "    <tr>\n",
       "      <th>5</th>\n",
       "      <td>260</td>\n",
       "      <td>81815</td>\n",
       "      <td>4.12</td>\n",
       "      <td>Star Wars: Episode IV - A New Hope (1977)</td>\n",
       "    </tr>\n",
       "    <tr>\n",
       "      <th>6</th>\n",
       "      <td>480</td>\n",
       "      <td>76451</td>\n",
       "      <td>3.67</td>\n",
       "      <td>Jurassic Park (1993)</td>\n",
       "    </tr>\n",
       "    <tr>\n",
       "      <th>7</th>\n",
       "      <td>527</td>\n",
       "      <td>71516</td>\n",
       "      <td>4.26</td>\n",
       "      <td>Schindler's List (1993)</td>\n",
       "    </tr>\n",
       "    <tr>\n",
       "      <th>8</th>\n",
       "      <td>110</td>\n",
       "      <td>68803</td>\n",
       "      <td>4.01</td>\n",
       "      <td>Braveheart (1995)</td>\n",
       "    </tr>\n",
       "    <tr>\n",
       "      <th>9</th>\n",
       "      <td>1</td>\n",
       "      <td>68469</td>\n",
       "      <td>3.89</td>\n",
       "      <td>Toy Story (1995)</td>\n",
       "    </tr>\n",
       "    <tr>\n",
       "      <th>10</th>\n",
       "      <td>1210</td>\n",
       "      <td>66023</td>\n",
       "      <td>3.99</td>\n",
       "      <td>Star Wars: Episode VI - Return of the Jedi (1983)</td>\n",
       "    </tr>\n",
       "    <tr>\n",
       "      <th>11</th>\n",
       "      <td>1196</td>\n",
       "      <td>65822</td>\n",
       "      <td>4.13</td>\n",
       "      <td>Star Wars: Episode V - The Empire Strikes Back...</td>\n",
       "    </tr>\n",
       "    <tr>\n",
       "      <th>12</th>\n",
       "      <td>2959</td>\n",
       "      <td>65678</td>\n",
       "      <td>4.23</td>\n",
       "      <td>Fight Club (1999)</td>\n",
       "    </tr>\n",
       "    <tr>\n",
       "      <th>13</th>\n",
       "      <td>589</td>\n",
       "      <td>64258</td>\n",
       "      <td>3.94</td>\n",
       "      <td>Terminator 2: Judgment Day (1991)</td>\n",
       "    </tr>\n",
       "    <tr>\n",
       "      <th>14</th>\n",
       "      <td>1198</td>\n",
       "      <td>63505</td>\n",
       "      <td>4.12</td>\n",
       "      <td>Raiders of the Lost Ark (Indiana Jones and the...</td>\n",
       "    </tr>\n",
       "  </tbody>\n",
       "</table>\n",
       "</div>"
      ],
      "text/plain": [
       "    movieId  num_of_ratings  avg_rating  \\\n",
       "0       318           97999        4.42   \n",
       "1       356           97040        4.06   \n",
       "2       296           92406        4.17   \n",
       "3       593           87899        4.15   \n",
       "4      2571           84545        4.15   \n",
       "5       260           81815        4.12   \n",
       "6       480           76451        3.67   \n",
       "7       527           71516        4.26   \n",
       "8       110           68803        4.01   \n",
       "9         1           68469        3.89   \n",
       "10     1210           66023        3.99   \n",
       "11     1196           65822        4.13   \n",
       "12     2959           65678        4.23   \n",
       "13      589           64258        3.94   \n",
       "14     1198           63505        4.12   \n",
       "\n",
       "                                                title  \n",
       "0                    Shawshank Redemption, The (1994)  \n",
       "1                                 Forrest Gump (1994)  \n",
       "2                                 Pulp Fiction (1994)  \n",
       "3                    Silence of the Lambs, The (1991)  \n",
       "4                                  Matrix, The (1999)  \n",
       "5           Star Wars: Episode IV - A New Hope (1977)  \n",
       "6                                Jurassic Park (1993)  \n",
       "7                             Schindler's List (1993)  \n",
       "8                                   Braveheart (1995)  \n",
       "9                                    Toy Story (1995)  \n",
       "10  Star Wars: Episode VI - Return of the Jedi (1983)  \n",
       "11  Star Wars: Episode V - The Empire Strikes Back...  \n",
       "12                                  Fight Club (1999)  \n",
       "13                  Terminator 2: Judgment Day (1991)  \n",
       "14  Raiders of the Lost Ark (Indiana Jones and the...  "
      ]
     },
     "execution_count": 20,
     "metadata": {},
     "output_type": "execute_result"
    }
   ],
   "source": [
    "# Convert the 'movies' Spark DataFrame into a Pandas DataFrame.\n",
    "movies_pd = movies_df.toPandas()\n",
    "\n",
    "# Round to two decimal places in pandas. \n",
    "pd.options.display.float_format = '{:.2f}'.format\n",
    "\n",
    "(ratings_count_and_avg_pd['Movies']\n",
    " .sort_values(by=['num_of_ratings'], ascending=False)\n",
    " .head(15)\n",
    " .merge(movies_pd[['movieId', 'title']], on='movieId', how='left'))"
   ]
  },
  {
   "cell_type": "markdown",
   "metadata": {},
   "source": [
    "What are the top fifteen highest-rated movies that received at least 500 ratings?"
   ]
  },
  {
   "cell_type": "code",
   "execution_count": 21,
   "metadata": {},
   "outputs": [
    {
     "data": {
      "text/html": [
       "<div>\n",
       "<style scoped>\n",
       "    .dataframe tbody tr th:only-of-type {\n",
       "        vertical-align: middle;\n",
       "    }\n",
       "\n",
       "    .dataframe tbody tr th {\n",
       "        vertical-align: top;\n",
       "    }\n",
       "\n",
       "    .dataframe thead th {\n",
       "        text-align: right;\n",
       "    }\n",
       "</style>\n",
       "<table border=\"1\" class=\"dataframe\">\n",
       "  <thead>\n",
       "    <tr style=\"text-align: right;\">\n",
       "      <th></th>\n",
       "      <th>movieId</th>\n",
       "      <th>num_of_ratings</th>\n",
       "      <th>avg_rating</th>\n",
       "      <th>title</th>\n",
       "    </tr>\n",
       "  </thead>\n",
       "  <tbody>\n",
       "    <tr>\n",
       "      <th>0</th>\n",
       "      <td>171011</td>\n",
       "      <td>853</td>\n",
       "      <td>4.49</td>\n",
       "      <td>Planet Earth II (2016)</td>\n",
       "    </tr>\n",
       "    <tr>\n",
       "      <th>1</th>\n",
       "      <td>159817</td>\n",
       "      <td>1384</td>\n",
       "      <td>4.46</td>\n",
       "      <td>Planet Earth (2006)</td>\n",
       "    </tr>\n",
       "    <tr>\n",
       "      <th>2</th>\n",
       "      <td>318</td>\n",
       "      <td>97999</td>\n",
       "      <td>4.42</td>\n",
       "      <td>Shawshank Redemption, The (1994)</td>\n",
       "    </tr>\n",
       "    <tr>\n",
       "      <th>3</th>\n",
       "      <td>170705</td>\n",
       "      <td>984</td>\n",
       "      <td>4.40</td>\n",
       "      <td>Band of Brothers (2001)</td>\n",
       "    </tr>\n",
       "    <tr>\n",
       "      <th>4</th>\n",
       "      <td>174053</td>\n",
       "      <td>1074</td>\n",
       "      <td>4.35</td>\n",
       "      <td>Black Mirror: White Christmas (2014)</td>\n",
       "    </tr>\n",
       "    <tr>\n",
       "      <th>5</th>\n",
       "      <td>858</td>\n",
       "      <td>60904</td>\n",
       "      <td>4.33</td>\n",
       "      <td>Godfather, The (1972)</td>\n",
       "    </tr>\n",
       "    <tr>\n",
       "      <th>6</th>\n",
       "      <td>50</td>\n",
       "      <td>62180</td>\n",
       "      <td>4.29</td>\n",
       "      <td>Usual Suspects, The (1995)</td>\n",
       "    </tr>\n",
       "    <tr>\n",
       "      <th>7</th>\n",
       "      <td>1221</td>\n",
       "      <td>38875</td>\n",
       "      <td>4.26</td>\n",
       "      <td>Godfather: Part II, The (1974)</td>\n",
       "    </tr>\n",
       "    <tr>\n",
       "      <th>8</th>\n",
       "      <td>527</td>\n",
       "      <td>71516</td>\n",
       "      <td>4.26</td>\n",
       "      <td>Schindler's List (1993)</td>\n",
       "    </tr>\n",
       "    <tr>\n",
       "      <th>9</th>\n",
       "      <td>2019</td>\n",
       "      <td>14578</td>\n",
       "      <td>4.25</td>\n",
       "      <td>Seven Samurai (Shichinin no samurai) (1954)</td>\n",
       "    </tr>\n",
       "    <tr>\n",
       "      <th>10</th>\n",
       "      <td>1203</td>\n",
       "      <td>17931</td>\n",
       "      <td>4.24</td>\n",
       "      <td>12 Angry Men (1957)</td>\n",
       "    </tr>\n",
       "    <tr>\n",
       "      <th>11</th>\n",
       "      <td>904</td>\n",
       "      <td>22264</td>\n",
       "      <td>4.23</td>\n",
       "      <td>Rear Window (1954)</td>\n",
       "    </tr>\n",
       "    <tr>\n",
       "      <th>12</th>\n",
       "      <td>2959</td>\n",
       "      <td>65678</td>\n",
       "      <td>4.23</td>\n",
       "      <td>Fight Club (1999)</td>\n",
       "    </tr>\n",
       "    <tr>\n",
       "      <th>13</th>\n",
       "      <td>1193</td>\n",
       "      <td>42181</td>\n",
       "      <td>4.22</td>\n",
       "      <td>One Flew Over the Cuckoo's Nest (1975)</td>\n",
       "    </tr>\n",
       "    <tr>\n",
       "      <th>14</th>\n",
       "      <td>912</td>\n",
       "      <td>31095</td>\n",
       "      <td>4.21</td>\n",
       "      <td>Casablanca (1942)</td>\n",
       "    </tr>\n",
       "  </tbody>\n",
       "</table>\n",
       "</div>"
      ],
      "text/plain": [
       "    movieId  num_of_ratings  avg_rating  \\\n",
       "0    171011             853        4.49   \n",
       "1    159817            1384        4.46   \n",
       "2       318           97999        4.42   \n",
       "3    170705             984        4.40   \n",
       "4    174053            1074        4.35   \n",
       "5       858           60904        4.33   \n",
       "6        50           62180        4.29   \n",
       "7      1221           38875        4.26   \n",
       "8       527           71516        4.26   \n",
       "9      2019           14578        4.25   \n",
       "10     1203           17931        4.24   \n",
       "11      904           22264        4.23   \n",
       "12     2959           65678        4.23   \n",
       "13     1193           42181        4.22   \n",
       "14      912           31095        4.21   \n",
       "\n",
       "                                          title  \n",
       "0                        Planet Earth II (2016)  \n",
       "1                           Planet Earth (2006)  \n",
       "2              Shawshank Redemption, The (1994)  \n",
       "3                       Band of Brothers (2001)  \n",
       "4          Black Mirror: White Christmas (2014)  \n",
       "5                         Godfather, The (1972)  \n",
       "6                    Usual Suspects, The (1995)  \n",
       "7                Godfather: Part II, The (1974)  \n",
       "8                       Schindler's List (1993)  \n",
       "9   Seven Samurai (Shichinin no samurai) (1954)  \n",
       "10                          12 Angry Men (1957)  \n",
       "11                           Rear Window (1954)  \n",
       "12                            Fight Club (1999)  \n",
       "13       One Flew Over the Cuckoo's Nest (1975)  \n",
       "14                            Casablanca (1942)  "
      ]
     },
     "execution_count": 21,
     "metadata": {},
     "output_type": "execute_result"
    }
   ],
   "source": [
    "mask = ratings_count_and_avg_pd['Movies']['num_of_ratings'] >= 500\n",
    "(ratings_count_and_avg_pd['Movies'][mask] \n",
    " .sort_values(by=['avg_rating'], ascending=False)\n",
    " .head(15)\n",
    " .merge(movies_pd[['movieId', 'title']], on='movieId', how='left'))"
   ]
  },
  {
   "cell_type": "markdown",
   "metadata": {},
   "source": [
    "What are the top fifteen lowest-rated movies that received at least 500 ratings?"
   ]
  },
  {
   "cell_type": "code",
   "execution_count": 22,
   "metadata": {},
   "outputs": [
    {
     "data": {
      "text/html": [
       "<div>\n",
       "<style scoped>\n",
       "    .dataframe tbody tr th:only-of-type {\n",
       "        vertical-align: middle;\n",
       "    }\n",
       "\n",
       "    .dataframe tbody tr th {\n",
       "        vertical-align: top;\n",
       "    }\n",
       "\n",
       "    .dataframe thead th {\n",
       "        text-align: right;\n",
       "    }\n",
       "</style>\n",
       "<table border=\"1\" class=\"dataframe\">\n",
       "  <thead>\n",
       "    <tr style=\"text-align: right;\">\n",
       "      <th></th>\n",
       "      <th>movieId</th>\n",
       "      <th>num_of_ratings</th>\n",
       "      <th>avg_rating</th>\n",
       "      <th>title</th>\n",
       "    </tr>\n",
       "  </thead>\n",
       "  <tbody>\n",
       "    <tr>\n",
       "      <th>0</th>\n",
       "      <td>4775</td>\n",
       "      <td>741</td>\n",
       "      <td>1.14</td>\n",
       "      <td>Glitter (2001)</td>\n",
       "    </tr>\n",
       "    <tr>\n",
       "      <th>1</th>\n",
       "      <td>6587</td>\n",
       "      <td>810</td>\n",
       "      <td>1.21</td>\n",
       "      <td>Gigli (2003)</td>\n",
       "    </tr>\n",
       "    <tr>\n",
       "      <th>2</th>\n",
       "      <td>31698</td>\n",
       "      <td>680</td>\n",
       "      <td>1.24</td>\n",
       "      <td>Son of the Mask (2005)</td>\n",
       "    </tr>\n",
       "    <tr>\n",
       "      <th>3</th>\n",
       "      <td>61348</td>\n",
       "      <td>593</td>\n",
       "      <td>1.27</td>\n",
       "      <td>Disaster Movie (2008)</td>\n",
       "    </tr>\n",
       "    <tr>\n",
       "      <th>4</th>\n",
       "      <td>6872</td>\n",
       "      <td>521</td>\n",
       "      <td>1.36</td>\n",
       "      <td>House of the Dead, The (2003)</td>\n",
       "    </tr>\n",
       "    <tr>\n",
       "      <th>5</th>\n",
       "      <td>1495</td>\n",
       "      <td>770</td>\n",
       "      <td>1.42</td>\n",
       "      <td>Turbo: A Power Rangers Movie (1997)</td>\n",
       "    </tr>\n",
       "    <tr>\n",
       "      <th>6</th>\n",
       "      <td>50798</td>\n",
       "      <td>1281</td>\n",
       "      <td>1.47</td>\n",
       "      <td>Epic Movie (2007)</td>\n",
       "    </tr>\n",
       "    <tr>\n",
       "      <th>7</th>\n",
       "      <td>5672</td>\n",
       "      <td>564</td>\n",
       "      <td>1.47</td>\n",
       "      <td>Pokemon 4 Ever (a.k.a. Pokémon 4: The Movie) (...</td>\n",
       "    </tr>\n",
       "    <tr>\n",
       "      <th>8</th>\n",
       "      <td>31424</td>\n",
       "      <td>564</td>\n",
       "      <td>1.51</td>\n",
       "      <td>Alone in the Dark (2005)</td>\n",
       "    </tr>\n",
       "    <tr>\n",
       "      <th>9</th>\n",
       "      <td>1739</td>\n",
       "      <td>668</td>\n",
       "      <td>1.59</td>\n",
       "      <td>3 Ninjas: High Noon On Mega Mountain (1998)</td>\n",
       "    </tr>\n",
       "    <tr>\n",
       "      <th>10</th>\n",
       "      <td>3593</td>\n",
       "      <td>4965</td>\n",
       "      <td>1.61</td>\n",
       "      <td>Battlefield Earth (2000)</td>\n",
       "    </tr>\n",
       "    <tr>\n",
       "      <th>11</th>\n",
       "      <td>43919</td>\n",
       "      <td>993</td>\n",
       "      <td>1.62</td>\n",
       "      <td>Date Movie (2006)</td>\n",
       "    </tr>\n",
       "    <tr>\n",
       "      <th>12</th>\n",
       "      <td>57532</td>\n",
       "      <td>950</td>\n",
       "      <td>1.63</td>\n",
       "      <td>Meet the Spartans (2008)</td>\n",
       "    </tr>\n",
       "    <tr>\n",
       "      <th>13</th>\n",
       "      <td>2386</td>\n",
       "      <td>657</td>\n",
       "      <td>1.63</td>\n",
       "      <td>Jerry Springer: Ringmaster (1998)</td>\n",
       "    </tr>\n",
       "    <tr>\n",
       "      <th>14</th>\n",
       "      <td>67867</td>\n",
       "      <td>556</td>\n",
       "      <td>1.67</td>\n",
       "      <td>Dragonball Evolution (2009)</td>\n",
       "    </tr>\n",
       "  </tbody>\n",
       "</table>\n",
       "</div>"
      ],
      "text/plain": [
       "    movieId  num_of_ratings  avg_rating  \\\n",
       "0      4775             741        1.14   \n",
       "1      6587             810        1.21   \n",
       "2     31698             680        1.24   \n",
       "3     61348             593        1.27   \n",
       "4      6872             521        1.36   \n",
       "5      1495             770        1.42   \n",
       "6     50798            1281        1.47   \n",
       "7      5672             564        1.47   \n",
       "8     31424             564        1.51   \n",
       "9      1739             668        1.59   \n",
       "10     3593            4965        1.61   \n",
       "11    43919             993        1.62   \n",
       "12    57532             950        1.63   \n",
       "13     2386             657        1.63   \n",
       "14    67867             556        1.67   \n",
       "\n",
       "                                                title  \n",
       "0                                      Glitter (2001)  \n",
       "1                                        Gigli (2003)  \n",
       "2                              Son of the Mask (2005)  \n",
       "3                               Disaster Movie (2008)  \n",
       "4                       House of the Dead, The (2003)  \n",
       "5                 Turbo: A Power Rangers Movie (1997)  \n",
       "6                                   Epic Movie (2007)  \n",
       "7   Pokemon 4 Ever (a.k.a. Pokémon 4: The Movie) (...  \n",
       "8                            Alone in the Dark (2005)  \n",
       "9         3 Ninjas: High Noon On Mega Mountain (1998)  \n",
       "10                           Battlefield Earth (2000)  \n",
       "11                                  Date Movie (2006)  \n",
       "12                           Meet the Spartans (2008)  \n",
       "13                  Jerry Springer: Ringmaster (1998)  \n",
       "14                        Dragonball Evolution (2009)  "
      ]
     },
     "execution_count": 22,
     "metadata": {},
     "output_type": "execute_result"
    }
   ],
   "source": [
    "mask = ratings_count_and_avg_pd['Movies']['num_of_ratings'] >= 500\n",
    "(ratings_count_and_avg_pd['Movies'][mask] \n",
    " .sort_values(by=['avg_rating'], ascending=True)\n",
    " .head(15)\n",
    " .merge(movies_pd[['movieId', 'title']], on='movieId', how='left'))"
   ]
  },
  {
   "cell_type": "markdown",
   "metadata": {},
   "source": [
    "## 2. Split the Data into Training and Test sets"
   ]
  },
  {
   "cell_type": "markdown",
   "metadata": {},
   "source": [
    "Let's split the *ratings* dataset into training and test sets:"
   ]
  },
  {
   "cell_type": "code",
   "execution_count": 23,
   "metadata": {},
   "outputs": [],
   "source": [
    "weights = [0.8, 0.2]\n",
    "(ratings_train_df, ratings_test_df) = ratings_df.randomSplit(weights=weights,\n",
    "                                                             seed=SEED)"
   ]
  },
  {
   "cell_type": "markdown",
   "metadata": {},
   "source": [
    "To improve performance, let's cache the training and test sets:"
   ]
  },
  {
   "cell_type": "code",
   "execution_count": 24,
   "metadata": {},
   "outputs": [],
   "source": [
    "ratings_train_df.cache();\n",
    "ratings_test_df.cache();"
   ]
  },
  {
   "cell_type": "code",
   "execution_count": 25,
   "metadata": {},
   "outputs": [
    {
     "name": "stdout",
     "output_type": "stream",
     "text": [
      "Number of ratings in the training set: 22201308\n",
      "Number of ratings in the test set: 5552136\n"
     ]
    }
   ],
   "source": [
    "n_ratings_train = ratings_train_df.count()\n",
    "n_ratings_test = ratings_test_df.count()\n",
    "print('Number of ratings in the training set:', n_ratings_train)\n",
    "print('Number of ratings in the test set:', n_ratings_test)"
   ]
  },
  {
   "cell_type": "code",
   "execution_count": 26,
   "metadata": {},
   "outputs": [
    {
     "name": "stdout",
     "output_type": "stream",
     "text": [
      "Number of users in the training set: 281983\n",
      "Number of movies in the training set: 51568\n"
     ]
    }
   ],
   "source": [
    "n_users_train = ratings_train_df.select('userId').distinct().count()\n",
    "n_movies_train = ratings_train_df.select('movieId').distinct().count()\n",
    "print('Number of users in the training set:', n_users_train)\n",
    "print('Number of movies in the training set:', n_movies_train)"
   ]
  },
  {
   "cell_type": "code",
   "execution_count": 27,
   "metadata": {},
   "outputs": [
    {
     "name": "stdout",
     "output_type": "stream",
     "text": [
      "Number of users in the test set: 263985\n",
      "Number of movies in the test set: 36484\n"
     ]
    }
   ],
   "source": [
    "n_users_test = ratings_test_df.select('userId').distinct().count()\n",
    "n_movies_test = ratings_test_df.select('movieId').distinct().count()\n",
    "print('Number of users in the test set:', n_users_test)\n",
    "print('Number of movies in the test set:', n_movies_test)"
   ]
  },
  {
   "cell_type": "markdown",
   "metadata": {},
   "source": [
    "What are the dimensions of the user-movie ratings matrix for the training \n",
    "set?"
   ]
  },
  {
   "cell_type": "code",
   "execution_count": 28,
   "metadata": {},
   "outputs": [
    {
     "name": "stdout",
     "output_type": "stream",
     "text": [
      "281983 x 51568\n"
     ]
    }
   ],
   "source": [
    "n_users_train = ratings_train_df.select('userId').distinct().count()\n",
    "n_movies_train = ratings_train_df.select('movieId').distinct().count()\n",
    "print(f'{n_users_train} x {n_movies_train}')"
   ]
  },
  {
   "cell_type": "markdown",
   "metadata": {},
   "source": [
    "How sparse is the training ratings matrix?"
   ]
  },
  {
   "cell_type": "code",
   "execution_count": 29,
   "metadata": {},
   "outputs": [
    {
     "name": "stdout",
     "output_type": "stream",
     "text": [
      "Approximately 0.15% of the training utility matrix is filled.\n"
     ]
    }
   ],
   "source": [
    "temp = n_ratings_train/(n_users_train * n_movies_train)\n",
    "temp = round(temp*100, 2)\n",
    "print(f'Approximately {temp}% of the training utility matrix is filled.')"
   ]
  },
  {
   "cell_type": "markdown",
   "metadata": {},
   "source": [
    "What are the dimensions of the user-movie ratings matrix for the test set?"
   ]
  },
  {
   "cell_type": "code",
   "execution_count": 30,
   "metadata": {},
   "outputs": [
    {
     "name": "stdout",
     "output_type": "stream",
     "text": [
      "263985 x 36484\n"
     ]
    }
   ],
   "source": [
    "n_users_test = ratings_test_df.select('userId').distinct().count()\n",
    "n_movies_test = ratings_test_df.select('movieId').distinct().count()\n",
    "print(f'{n_users_test} x {n_movies_test}')"
   ]
  },
  {
   "cell_type": "markdown",
   "metadata": {},
   "source": [
    "How sparse is the test ratings matrix?"
   ]
  },
  {
   "cell_type": "code",
   "execution_count": 31,
   "metadata": {},
   "outputs": [
    {
     "name": "stdout",
     "output_type": "stream",
     "text": [
      "Approximately 0.06% of the test utility matrix is filled.\n"
     ]
    }
   ],
   "source": [
    "temp = n_ratings_test/(n_users_test * n_movies_test)\n",
    "temp = round(temp*100, 2)\n",
    "print(f'Approximately {temp}% of the test utility matrix is filled.')"
   ]
  },
  {
   "cell_type": "markdown",
   "metadata": {},
   "source": [
    "## 3. Select a Model"
   ]
  },
  {
   "cell_type": "markdown",
   "metadata": {},
   "source": [
    "Let's begin by creating an ALS instance:"
   ]
  },
  {
   "cell_type": "code",
   "execution_count": 32,
   "metadata": {},
   "outputs": [],
   "source": [
    "# During cross-validation, it is likely there will be users and items in the \n",
    "# evaluation set that are not present in the training set. By default, \n",
    "# NaN predictions are assigned for such users/items, which is a problem when \n",
    "# evaluating the model. To avoid this issue, we are passing \n",
    "# `coldStartStrategy='drop'`.\n",
    "als = ALS(userCol='userId', \n",
    "          itemCol='movieId', \n",
    "          ratingCol='rating',\n",
    "          coldStartStrategy='drop',\n",
    "          seed=SEED)"
   ]
  },
  {
   "cell_type": "markdown",
   "metadata": {},
   "source": [
    "We will consider the following hyperparameter combinations:"
   ]
  },
  {
   "cell_type": "code",
   "execution_count": 33,
   "metadata": {},
   "outputs": [],
   "source": [
    "# Hyperparameter grid.\n",
    "param_grid = (ParamGridBuilder()\n",
    "              .addGrid(als.rank, [8, 10, 12])\n",
    "              .addGrid(als.regParam, [100, 10, 1, 0.1, 0.01])\n",
    "              .build())"
   ]
  },
  {
   "cell_type": "markdown",
   "metadata": {},
   "source": [
    "Let's use Root Mean Squared Error (RMSE) to evaluate models:"
   ]
  },
  {
   "cell_type": "code",
   "execution_count": 34,
   "metadata": {},
   "outputs": [],
   "source": [
    "evaluator = RegressionEvaluator(metricName='rmse', \n",
    "                                labelCol='rating',\n",
    "                                predictionCol='prediction')"
   ]
  },
  {
   "cell_type": "markdown",
   "metadata": {},
   "source": [
    "Let's create an instance of the CrossValidator:"
   ]
  },
  {
   "cell_type": "code",
   "execution_count": 35,
   "metadata": {},
   "outputs": [],
   "source": [
    "# The `parallelism` parameter determines the number of models to train in \n",
    "# parallel, which themselves are fit in parallel.\n",
    "cv = CrossValidator(estimator=als,\n",
    "                    evaluator=evaluator,\n",
    "                    estimatorParamMaps=param_grid,\n",
    "                    numFolds=5,\n",
    "                    parallelism=1,\n",
    "                    seed=SEED)"
   ]
  },
  {
   "cell_type": "markdown",
   "metadata": {},
   "source": [
    "Let's build the recommendation model:"
   ]
  },
  {
   "cell_type": "code",
   "execution_count": 36,
   "metadata": {},
   "outputs": [
    {
     "name": "stdout",
     "output_type": "stream",
     "text": [
      "CPU times: user 2.61 s, sys: 602 ms, total: 3.22 s\n",
      "Wall time: 1h 50min 30s\n"
     ]
    }
   ],
   "source": [
    "%%time\n",
    "# After identifying the optimal hyperparameters, Spark automatically retrains \n",
    "# the model on the training dataset.\n",
    "cv_model = cv.fit(ratings_train_df)"
   ]
  },
  {
   "cell_type": "markdown",
   "metadata": {},
   "source": [
    "Let's inspect the results of the cross-validator:"
   ]
  },
  {
   "cell_type": "code",
   "execution_count": 37,
   "metadata": {},
   "outputs": [
    {
     "data": {
      "text/html": [
       "<style  type=\"text/css\" >\n",
       "</style><table id=\"T_d44c71a8_371e_11eb_8416_5b617bf19894\" ><thead>    <tr>        <th class=\"col_heading level0 col0\" >rank</th>        <th class=\"col_heading level0 col1\" >regParam</th>        <th class=\"col_heading level0 col2\" >rmse</th>    </tr></thead><tbody>\n",
       "                <tr>\n",
       "                                <td id=\"T_d44c71a8_371e_11eb_8416_5b617bf19894row0_col0\" class=\"data row0 col0\" >10</td>\n",
       "                        <td id=\"T_d44c71a8_371e_11eb_8416_5b617bf19894row0_col1\" class=\"data row0 col1\" >0.100000</td>\n",
       "                        <td id=\"T_d44c71a8_371e_11eb_8416_5b617bf19894row0_col2\" class=\"data row0 col2\" >0.816963</td>\n",
       "            </tr>\n",
       "            <tr>\n",
       "                                <td id=\"T_d44c71a8_371e_11eb_8416_5b617bf19894row1_col0\" class=\"data row1 col0\" >12</td>\n",
       "                        <td id=\"T_d44c71a8_371e_11eb_8416_5b617bf19894row1_col1\" class=\"data row1 col1\" >0.100000</td>\n",
       "                        <td id=\"T_d44c71a8_371e_11eb_8416_5b617bf19894row1_col2\" class=\"data row1 col2\" >0.817562</td>\n",
       "            </tr>\n",
       "            <tr>\n",
       "                                <td id=\"T_d44c71a8_371e_11eb_8416_5b617bf19894row2_col0\" class=\"data row2 col0\" >8</td>\n",
       "                        <td id=\"T_d44c71a8_371e_11eb_8416_5b617bf19894row2_col1\" class=\"data row2 col1\" >0.100000</td>\n",
       "                        <td id=\"T_d44c71a8_371e_11eb_8416_5b617bf19894row2_col2\" class=\"data row2 col2\" >0.821673</td>\n",
       "            </tr>\n",
       "            <tr>\n",
       "                                <td id=\"T_d44c71a8_371e_11eb_8416_5b617bf19894row3_col0\" class=\"data row3 col0\" >8</td>\n",
       "                        <td id=\"T_d44c71a8_371e_11eb_8416_5b617bf19894row3_col1\" class=\"data row3 col1\" >0.010000</td>\n",
       "                        <td id=\"T_d44c71a8_371e_11eb_8416_5b617bf19894row3_col2\" class=\"data row3 col2\" >0.847660</td>\n",
       "            </tr>\n",
       "            <tr>\n",
       "                                <td id=\"T_d44c71a8_371e_11eb_8416_5b617bf19894row4_col0\" class=\"data row4 col0\" >10</td>\n",
       "                        <td id=\"T_d44c71a8_371e_11eb_8416_5b617bf19894row4_col1\" class=\"data row4 col1\" >0.010000</td>\n",
       "                        <td id=\"T_d44c71a8_371e_11eb_8416_5b617bf19894row4_col2\" class=\"data row4 col2\" >0.848694</td>\n",
       "            </tr>\n",
       "            <tr>\n",
       "                                <td id=\"T_d44c71a8_371e_11eb_8416_5b617bf19894row5_col0\" class=\"data row5 col0\" >12</td>\n",
       "                        <td id=\"T_d44c71a8_371e_11eb_8416_5b617bf19894row5_col1\" class=\"data row5 col1\" >0.010000</td>\n",
       "                        <td id=\"T_d44c71a8_371e_11eb_8416_5b617bf19894row5_col2\" class=\"data row5 col2\" >0.854960</td>\n",
       "            </tr>\n",
       "            <tr>\n",
       "                                <td id=\"T_d44c71a8_371e_11eb_8416_5b617bf19894row6_col0\" class=\"data row6 col0\" >8</td>\n",
       "                        <td id=\"T_d44c71a8_371e_11eb_8416_5b617bf19894row6_col1\" class=\"data row6 col1\" >1.000000</td>\n",
       "                        <td id=\"T_d44c71a8_371e_11eb_8416_5b617bf19894row6_col2\" class=\"data row6 col2\" >1.327913</td>\n",
       "            </tr>\n",
       "            <tr>\n",
       "                                <td id=\"T_d44c71a8_371e_11eb_8416_5b617bf19894row7_col0\" class=\"data row7 col0\" >12</td>\n",
       "                        <td id=\"T_d44c71a8_371e_11eb_8416_5b617bf19894row7_col1\" class=\"data row7 col1\" >1.000000</td>\n",
       "                        <td id=\"T_d44c71a8_371e_11eb_8416_5b617bf19894row7_col2\" class=\"data row7 col2\" >1.327914</td>\n",
       "            </tr>\n",
       "            <tr>\n",
       "                                <td id=\"T_d44c71a8_371e_11eb_8416_5b617bf19894row8_col0\" class=\"data row8 col0\" >10</td>\n",
       "                        <td id=\"T_d44c71a8_371e_11eb_8416_5b617bf19894row8_col1\" class=\"data row8 col1\" >1.000000</td>\n",
       "                        <td id=\"T_d44c71a8_371e_11eb_8416_5b617bf19894row8_col2\" class=\"data row8 col2\" >1.327916</td>\n",
       "            </tr>\n",
       "            <tr>\n",
       "                                <td id=\"T_d44c71a8_371e_11eb_8416_5b617bf19894row9_col0\" class=\"data row9 col0\" >8</td>\n",
       "                        <td id=\"T_d44c71a8_371e_11eb_8416_5b617bf19894row9_col1\" class=\"data row9 col1\" >100.000000</td>\n",
       "                        <td id=\"T_d44c71a8_371e_11eb_8416_5b617bf19894row9_col2\" class=\"data row9 col2\" >3.688249</td>\n",
       "            </tr>\n",
       "            <tr>\n",
       "                                <td id=\"T_d44c71a8_371e_11eb_8416_5b617bf19894row10_col0\" class=\"data row10 col0\" >8</td>\n",
       "                        <td id=\"T_d44c71a8_371e_11eb_8416_5b617bf19894row10_col1\" class=\"data row10 col1\" >10.000000</td>\n",
       "                        <td id=\"T_d44c71a8_371e_11eb_8416_5b617bf19894row10_col2\" class=\"data row10 col2\" >3.688249</td>\n",
       "            </tr>\n",
       "            <tr>\n",
       "                                <td id=\"T_d44c71a8_371e_11eb_8416_5b617bf19894row11_col0\" class=\"data row11 col0\" >10</td>\n",
       "                        <td id=\"T_d44c71a8_371e_11eb_8416_5b617bf19894row11_col1\" class=\"data row11 col1\" >100.000000</td>\n",
       "                        <td id=\"T_d44c71a8_371e_11eb_8416_5b617bf19894row11_col2\" class=\"data row11 col2\" >3.688249</td>\n",
       "            </tr>\n",
       "            <tr>\n",
       "                                <td id=\"T_d44c71a8_371e_11eb_8416_5b617bf19894row12_col0\" class=\"data row12 col0\" >10</td>\n",
       "                        <td id=\"T_d44c71a8_371e_11eb_8416_5b617bf19894row12_col1\" class=\"data row12 col1\" >10.000000</td>\n",
       "                        <td id=\"T_d44c71a8_371e_11eb_8416_5b617bf19894row12_col2\" class=\"data row12 col2\" >3.688249</td>\n",
       "            </tr>\n",
       "            <tr>\n",
       "                                <td id=\"T_d44c71a8_371e_11eb_8416_5b617bf19894row13_col0\" class=\"data row13 col0\" >12</td>\n",
       "                        <td id=\"T_d44c71a8_371e_11eb_8416_5b617bf19894row13_col1\" class=\"data row13 col1\" >100.000000</td>\n",
       "                        <td id=\"T_d44c71a8_371e_11eb_8416_5b617bf19894row13_col2\" class=\"data row13 col2\" >3.688249</td>\n",
       "            </tr>\n",
       "            <tr>\n",
       "                                <td id=\"T_d44c71a8_371e_11eb_8416_5b617bf19894row14_col0\" class=\"data row14 col0\" >12</td>\n",
       "                        <td id=\"T_d44c71a8_371e_11eb_8416_5b617bf19894row14_col1\" class=\"data row14 col1\" >10.000000</td>\n",
       "                        <td id=\"T_d44c71a8_371e_11eb_8416_5b617bf19894row14_col2\" class=\"data row14 col2\" >3.688249</td>\n",
       "            </tr>\n",
       "    </tbody></table>"
      ],
      "text/plain": [
       "<pandas.io.formats.style.Styler at 0x7f7d03d429d0>"
      ]
     },
     "execution_count": 37,
     "metadata": {},
     "output_type": "execute_result"
    }
   ],
   "source": [
    "cv_results = []\n",
    "\n",
    "for a, b in zip(cv_model.getEstimatorParamMaps(), cv_model.avgMetrics):\n",
    "    d = {}\n",
    "    for key in a.keys():\n",
    "        d[key.name] = a[key]\n",
    "    d['rmse'] = b\n",
    "    cv_results.append(d)\n",
    "    \n",
    "# Round to four decimal places in pandas. \n",
    "pd.options.display.float_format = '{:.4f}'.format\n",
    "    \n",
    "pd.DataFrame(cv_results).sort_values(by='rmse').style.hide_index()"
   ]
  },
  {
   "cell_type": "markdown",
   "metadata": {},
   "source": [
    "The optimal hyperparameters are `rank=10` and `regParam=0.1`."
   ]
  },
  {
   "cell_type": "markdown",
   "metadata": {},
   "source": [
    "Let's select the best ALS model:"
   ]
  },
  {
   "cell_type": "code",
   "execution_count": 38,
   "metadata": {},
   "outputs": [],
   "source": [
    "model = cv_model.bestModel"
   ]
  },
  {
   "cell_type": "markdown",
   "metadata": {},
   "source": [
    "Let's take a look at a few randomly chosen predictions made by the model:"
   ]
  },
  {
   "cell_type": "code",
   "execution_count": 39,
   "metadata": {},
   "outputs": [
    {
     "name": "stdout",
     "output_type": "stream",
     "text": [
      "+------+-------+------+----------+\n",
      "|userId|movieId|rating|prediction|\n",
      "+------+-------+------+----------+\n",
      "|189927|   1339|   4.0| 2.1191711|\n",
      "|184249|   1030|   4.0| 3.4768596|\n",
      "| 34504|   3728|   3.0|  3.200628|\n",
      "| 72903|    435|   3.0|  2.280782|\n",
      "|275238|   2150|   4.0| 3.3483858|\n",
      "|139117|    480|   4.0| 3.9175198|\n",
      "| 69785|   1465|   5.0|  3.625072|\n",
      "|263301|   8268|   2.0| 2.1843724|\n",
      "|151340|   5005|   4.5|   3.14689|\n",
      "+------+-------+------+----------+\n",
      "\n"
     ]
    }
   ],
   "source": [
    "model.transform(ratings_test_df).sample(fraction=10/n_ratings_test).show()"
   ]
  },
  {
   "cell_type": "markdown",
   "metadata": {},
   "source": [
    "## 4. Evaluate the Model"
   ]
  },
  {
   "cell_type": "markdown",
   "metadata": {},
   "source": [
    "What is the RMSE of the model on the training set?"
   ]
  },
  {
   "cell_type": "code",
   "execution_count": 40,
   "metadata": {},
   "outputs": [
    {
     "name": "stdout",
     "output_type": "stream",
     "text": [
      "Root mean square error on the training set: 0.7675\n"
     ]
    }
   ],
   "source": [
    "predictions_train = model.transform(ratings_train_df)\n",
    "rmse_train = evaluator.evaluate(predictions_train)\n",
    "print('Root mean square error on the training set:', round(rmse_train, 4))"
   ]
  },
  {
   "cell_type": "markdown",
   "metadata": {},
   "source": [
    "What is the RMSE of the model on the test set?"
   ]
  },
  {
   "cell_type": "code",
   "execution_count": 41,
   "metadata": {},
   "outputs": [
    {
     "name": "stdout",
     "output_type": "stream",
     "text": [
      "Root mean square error on the test set: 0.8156\n"
     ]
    }
   ],
   "source": [
    "predictions_test = model.transform(ratings_test_df)\n",
    "rmse_test = evaluator.evaluate(predictions_test)\n",
    "print('Root mean square error on the test set:', round(rmse_test, 4))"
   ]
  },
  {
   "cell_type": "markdown",
   "metadata": {},
   "source": [
    "We wish to compare our best ALS model to the baseline model, which predicts \n",
    "the average rating for each movie. To this end, let's first generate the \n",
    "baseline predictions:"
   ]
  },
  {
   "cell_type": "code",
   "execution_count": 42,
   "metadata": {},
   "outputs": [],
   "source": [
    "movies_avg_ratings_df = (ratings_count_and_avg['Movies']\n",
    "                         .select('movieId', 'avg_rating'))\n",
    "\n",
    "baseline_predictions = (ratings_test_df\n",
    "                        .join(movies_avg_ratings_df, on='movieId', how='left')\n",
    "                        .withColumnRenamed('avg_rating', 'prediction'))"
   ]
  },
  {
   "cell_type": "markdown",
   "metadata": {},
   "source": [
    "Let's take a look at a few randomly chosen baseline predictions:"
   ]
  },
  {
   "cell_type": "code",
   "execution_count": 43,
   "metadata": {},
   "outputs": [
    {
     "name": "stdout",
     "output_type": "stream",
     "text": [
      "+-------+------+------+----------+\n",
      "|movieId|userId|rating|prediction|\n",
      "+-------+------+------+----------+\n",
      "|   1777| 48977|   2.5|      3.39|\n",
      "|    904|  8754|   4.0|      4.23|\n",
      "|   6564| 64130|   4.0|      2.75|\n",
      "|   3479|253042|   4.5|      3.56|\n",
      "|   5574|126562|   5.0|      3.37|\n",
      "|   2482|145226|   4.5|      3.29|\n",
      "|  81845| 75884|   5.0|      3.93|\n",
      "|   4306|  3388|   4.0|      3.77|\n",
      "|    260|230519|   5.0|      4.12|\n",
      "|   1882| 76799|   3.0|      2.38|\n",
      "+-------+------+------+----------+\n",
      "\n"
     ]
    }
   ],
   "source": [
    "(baseline_predictions\n",
    " .select('movieId', 'userId', 'rating', \n",
    "         F.round('prediction', 2).alias('prediction'))\n",
    " .sample(fraction=10/n_ratings_test, seed=SEED)\n",
    " .show())"
   ]
  },
  {
   "cell_type": "markdown",
   "metadata": {},
   "source": [
    "What is the RMSE of the baseline model on the test set?"
   ]
  },
  {
   "cell_type": "code",
   "execution_count": 44,
   "metadata": {},
   "outputs": [
    {
     "name": "stdout",
     "output_type": "stream",
     "text": [
      "Root mean square error on the test set: 0.9633\n"
     ]
    }
   ],
   "source": [
    "baseline_rmse = evaluator.evaluate(baseline_predictions)\n",
    "print('Root mean square error on the test set:', round(baseline_rmse, 4))"
   ]
  },
  {
   "cell_type": "markdown",
   "metadata": {},
   "source": [
    "We note that our best ALS model improves the baseline model by approximately \n",
    "15%."
   ]
  },
  {
   "cell_type": "markdown",
   "metadata": {},
   "source": [
    "## 5. Make Recommendations"
   ]
  },
  {
   "cell_type": "markdown",
   "metadata": {},
   "source": [
    "Let's make movie recommendations for user, say, 888. First, let's take a \n",
    "look at the ratings given by user 888:"
   ]
  },
  {
   "cell_type": "code",
   "execution_count": 45,
   "metadata": {},
   "outputs": [
    {
     "name": "stdout",
     "output_type": "stream",
     "text": [
      "+-------+------+------------------------------------------------------------------------------+\n",
      "|movieId|rating|title                                                                         |\n",
      "+-------+------+------------------------------------------------------------------------------+\n",
      "|110    |5.0   |Braveheart (1995)                                                             |\n",
      "|296    |4.5   |Pulp Fiction (1994)                                                           |\n",
      "|318    |5.0   |Shawshank Redemption, The (1994)                                              |\n",
      "|356    |4.5   |Forrest Gump (1994)                                                           |\n",
      "|527    |5.0   |Schindler's List (1993)                                                       |\n",
      "|593    |5.0   |Silence of the Lambs, The (1991)                                              |\n",
      "|858    |5.0   |Godfather, The (1972)                                                         |\n",
      "|1036   |4.5   |Die Hard (1988)                                                               |\n",
      "|1198   |5.0   |Raiders of the Lost Ark (Indiana Jones and the Raiders of the Lost Ark) (1981)|\n",
      "|1200   |4.5   |Aliens (1986)                                                                 |\n",
      "|1208   |4.5   |Apocalypse Now (1979)                                                         |\n",
      "|1214   |4.5   |Alien (1979)                                                                  |\n",
      "|1221   |5.0   |Godfather: Part II, The (1974)                                                |\n",
      "|1704   |5.0   |Good Will Hunting (1997)                                                      |\n",
      "|2959   |4.0   |Fight Club (1999)                                                             |\n",
      "|4878   |4.5   |Donnie Darko (2001)                                                           |\n",
      "|48516  |5.0   |Departed, The (2006)                                                          |\n",
      "|56782  |5.0   |There Will Be Blood (2007)                                                    |\n",
      "|57669  |4.0   |In Bruges (2008)                                                              |\n",
      "|148626 |4.0   |Big Short, The (2015)                                                         |\n",
      "+-------+------+------------------------------------------------------------------------------+\n",
      "\n"
     ]
    }
   ],
   "source": [
    "(ratings_train_df\n",
    " .where(F.col('userId') == 888) \n",
    " .orderBy('movieId')\n",
    " .join(movies_df, on='movieId', how='left')\n",
    " .select('movieId', 'rating', 'title')\n",
    " .show(n=20, truncate=False))"
   ]
  },
  {
   "cell_type": "markdown",
   "metadata": {},
   "source": [
    "Now, let's make recommendations for user 888:"
   ]
  },
  {
   "cell_type": "code",
   "execution_count": 46,
   "metadata": {},
   "outputs": [
    {
     "name": "stdout",
     "output_type": "stream",
     "text": [
      "Recommendations for user 888:\n"
     ]
    },
    {
     "data": {
      "text/html": [
       "<div>\n",
       "<style scoped>\n",
       "    .dataframe tbody tr th:only-of-type {\n",
       "        vertical-align: middle;\n",
       "    }\n",
       "\n",
       "    .dataframe tbody tr th {\n",
       "        vertical-align: top;\n",
       "    }\n",
       "\n",
       "    .dataframe thead th {\n",
       "        text-align: right;\n",
       "    }\n",
       "</style>\n",
       "<table border=\"1\" class=\"dataframe\">\n",
       "  <thead>\n",
       "    <tr style=\"text-align: right;\">\n",
       "      <th></th>\n",
       "      <th>movieId</th>\n",
       "      <th>title</th>\n",
       "    </tr>\n",
       "  </thead>\n",
       "  <tbody>\n",
       "    <tr>\n",
       "      <th>0</th>\n",
       "      <td>101862</td>\n",
       "      <td>50 Children: The Rescue Mission of Mr. And Mrs. Kraus (2013)</td>\n",
       "    </tr>\n",
       "    <tr>\n",
       "      <th>1</th>\n",
       "      <td>177209</td>\n",
       "      <td>Acı Aşk (2009)</td>\n",
       "    </tr>\n",
       "    <tr>\n",
       "      <th>2</th>\n",
       "      <td>151989</td>\n",
       "      <td>The Thorn (1971)</td>\n",
       "    </tr>\n",
       "    <tr>\n",
       "      <th>3</th>\n",
       "      <td>183947</td>\n",
       "      <td>NOFX Backstage Passport 2</td>\n",
       "    </tr>\n",
       "    <tr>\n",
       "      <th>4</th>\n",
       "      <td>165689</td>\n",
       "      <td>Head Trauma (2006)</td>\n",
       "    </tr>\n",
       "    <tr>\n",
       "      <th>5</th>\n",
       "      <td>190707</td>\n",
       "      <td>1968 (2018)</td>\n",
       "    </tr>\n",
       "    <tr>\n",
       "      <th>6</th>\n",
       "      <td>184299</td>\n",
       "      <td>Freedom on My Mind (1994)</td>\n",
       "    </tr>\n",
       "    <tr>\n",
       "      <th>7</th>\n",
       "      <td>182485</td>\n",
       "      <td>Cook-Off! (2017)</td>\n",
       "    </tr>\n",
       "    <tr>\n",
       "      <th>8</th>\n",
       "      <td>185959</td>\n",
       "      <td>Wajib (2017)</td>\n",
       "    </tr>\n",
       "    <tr>\n",
       "      <th>9</th>\n",
       "      <td>182183</td>\n",
       "      <td>The Country Cousin (1936)</td>\n",
       "    </tr>\n",
       "    <tr>\n",
       "      <th>10</th>\n",
       "      <td>159761</td>\n",
       "      <td>Loot (1970)</td>\n",
       "    </tr>\n",
       "    <tr>\n",
       "      <th>11</th>\n",
       "      <td>192843</td>\n",
       "      <td>Earth: The Power of the Planet (2007)</td>\n",
       "    </tr>\n",
       "    <tr>\n",
       "      <th>12</th>\n",
       "      <td>187125</td>\n",
       "      <td>Head Above Water (1993)</td>\n",
       "    </tr>\n",
       "    <tr>\n",
       "      <th>13</th>\n",
       "      <td>187129</td>\n",
       "      <td>Good Bye, Till Tomorrow (1960)</td>\n",
       "    </tr>\n",
       "    <tr>\n",
       "      <th>14</th>\n",
       "      <td>187947</td>\n",
       "      <td>Finger of God (2007)</td>\n",
       "    </tr>\n",
       "  </tbody>\n",
       "</table>\n",
       "</div>"
      ],
      "text/plain": [
       "    movieId                                                         title\n",
       "0    101862  50 Children: The Rescue Mission of Mr. And Mrs. Kraus (2013)\n",
       "1    177209                                                Acı Aşk (2009)\n",
       "2    151989                                              The Thorn (1971)\n",
       "3    183947                                     NOFX Backstage Passport 2\n",
       "4    165689                                            Head Trauma (2006)\n",
       "5    190707                                                   1968 (2018)\n",
       "6    184299                                     Freedom on My Mind (1994)\n",
       "7    182485                                              Cook-Off! (2017)\n",
       "8    185959                                                  Wajib (2017)\n",
       "9    182183                                     The Country Cousin (1936)\n",
       "10   159761                                                   Loot (1970)\n",
       "11   192843                         Earth: The Power of the Planet (2007)\n",
       "12   187125                                       Head Above Water (1993)\n",
       "13   187129                                Good Bye, Till Tomorrow (1960)\n",
       "14   187947                                          Finger of God (2007)"
      ]
     },
     "execution_count": 46,
     "metadata": {},
     "output_type": "execute_result"
    }
   ],
   "source": [
    "user_888 = spark.createDataFrame([(888,)], ['userId']) \n",
    "\n",
    "# Get recommendations.\n",
    "recs_df = model.recommendForUserSubset(user_888, 15)\n",
    "\n",
    "# Convert recommendations to a list.\n",
    "recs_list = [row['movieId'] \n",
    "             for row in recs_df.toPandas()['recommendations'][0]]\n",
    "\n",
    "# Convert recommendations to a pandas DataFrame.\n",
    "recs_pd = pd.DataFrame(recs_list, columns=['movieId'])\n",
    "\n",
    "print('Recommendations for user 888:')\n",
    "\n",
    "# Ensure that columns are not truncated.\n",
    "pd.options.display.max_colwidth = None\n",
    "\n",
    "pd.merge(recs_pd, \n",
    "         movies_pd[['movieId', 'title']], \n",
    "         on='movieId', \n",
    "         how='left')"
   ]
  },
  {
   "cell_type": "markdown",
   "metadata": {},
   "source": [
    "Above, we made recommendations for a user present in the training set.\n",
    "What if we want to make movie recommendations for a new user, not present \n",
    "in the training set? One approach is to append the ratings of the new user \n",
    "to the training set, retrain the ALS model, and then make recommendations. \n",
    "However, since retraining the model takes time, the recommendations will \n",
    "not be available immediately. What if we want to make recommendations as \n",
    "soon as the new user has supplied some ratings? \n",
    "\n",
    "We will use the following approach, which will enable us to make immediate\n",
    "recommendations. Let $V$ denote the movie factors matrix of the ALS model, \n",
    "let $H$ denote the submatrix of $V$ corresponding to the movies rated by \n",
    "the new user, and let $y$ denote the ratings supplied by the new user. \n",
    "We wish to find an approximation $\\theta$ of the user factor vector for \n",
    "the new user. We will determine $\\theta$ by minimizing the function \n",
    "$E(\\theta) = \\lVert y - \\theta H \\rVert^2 + \\lambda \\lVert \\theta \\rVert^2$,\n",
    "where $\\lambda$ is the regularization parameter.\n",
    "\n",
    "After obtaining $\\theta$, we will compute the product $\\theta V$ to obtain\n",
    "predicted ratings for the new user, and finally we will make recommendations. \n",
    "\n",
    "Let's take a look at an example. Suppose that a new user has supplied the\n",
    "following ratings:"
   ]
  },
  {
   "cell_type": "code",
   "execution_count": 47,
   "metadata": {},
   "outputs": [],
   "source": [
    "# Ratings supplied by user_0. Format: movieID: rating.\n",
    "user_0_ratings = {318: 5.0, 356: 4.0, 296: 4.0, 593: 4.0, 2571: 4.0, 260: 2.0, \n",
    "                  480: 3.0, 527: 5.0, 110: 3.0, 1: 2.0, 1210: 2.0, 1196: 2.0, \n",
    "                  2959: 3.0, 589: 4.0, 1198: 4.0}"
   ]
  },
  {
   "cell_type": "markdown",
   "metadata": {},
   "source": [
    "Let's display the movie titles of these movies:"
   ]
  },
  {
   "cell_type": "code",
   "execution_count": 48,
   "metadata": {},
   "outputs": [
    {
     "data": {
      "text/html": [
       "<div>\n",
       "<style scoped>\n",
       "    .dataframe tbody tr th:only-of-type {\n",
       "        vertical-align: middle;\n",
       "    }\n",
       "\n",
       "    .dataframe tbody tr th {\n",
       "        vertical-align: top;\n",
       "    }\n",
       "\n",
       "    .dataframe thead th {\n",
       "        text-align: right;\n",
       "    }\n",
       "</style>\n",
       "<table border=\"1\" class=\"dataframe\">\n",
       "  <thead>\n",
       "    <tr style=\"text-align: right;\">\n",
       "      <th></th>\n",
       "      <th>movieId</th>\n",
       "      <th>rating</th>\n",
       "      <th>title</th>\n",
       "    </tr>\n",
       "  </thead>\n",
       "  <tbody>\n",
       "    <tr>\n",
       "      <th>0</th>\n",
       "      <td>318</td>\n",
       "      <td>5.0</td>\n",
       "      <td>Shawshank Redemption, The (1994)</td>\n",
       "    </tr>\n",
       "    <tr>\n",
       "      <th>1</th>\n",
       "      <td>356</td>\n",
       "      <td>4.0</td>\n",
       "      <td>Forrest Gump (1994)</td>\n",
       "    </tr>\n",
       "    <tr>\n",
       "      <th>2</th>\n",
       "      <td>296</td>\n",
       "      <td>4.0</td>\n",
       "      <td>Pulp Fiction (1994)</td>\n",
       "    </tr>\n",
       "    <tr>\n",
       "      <th>3</th>\n",
       "      <td>593</td>\n",
       "      <td>4.0</td>\n",
       "      <td>Silence of the Lambs, The (1991)</td>\n",
       "    </tr>\n",
       "    <tr>\n",
       "      <th>4</th>\n",
       "      <td>2571</td>\n",
       "      <td>4.0</td>\n",
       "      <td>Matrix, The (1999)</td>\n",
       "    </tr>\n",
       "    <tr>\n",
       "      <th>5</th>\n",
       "      <td>260</td>\n",
       "      <td>2.0</td>\n",
       "      <td>Star Wars: Episode IV - A New Hope (1977)</td>\n",
       "    </tr>\n",
       "    <tr>\n",
       "      <th>6</th>\n",
       "      <td>480</td>\n",
       "      <td>3.0</td>\n",
       "      <td>Jurassic Park (1993)</td>\n",
       "    </tr>\n",
       "    <tr>\n",
       "      <th>7</th>\n",
       "      <td>527</td>\n",
       "      <td>5.0</td>\n",
       "      <td>Schindler's List (1993)</td>\n",
       "    </tr>\n",
       "    <tr>\n",
       "      <th>8</th>\n",
       "      <td>110</td>\n",
       "      <td>3.0</td>\n",
       "      <td>Braveheart (1995)</td>\n",
       "    </tr>\n",
       "    <tr>\n",
       "      <th>9</th>\n",
       "      <td>1</td>\n",
       "      <td>2.0</td>\n",
       "      <td>Toy Story (1995)</td>\n",
       "    </tr>\n",
       "    <tr>\n",
       "      <th>10</th>\n",
       "      <td>1210</td>\n",
       "      <td>2.0</td>\n",
       "      <td>Star Wars: Episode VI - Return of the Jedi (1983)</td>\n",
       "    </tr>\n",
       "    <tr>\n",
       "      <th>11</th>\n",
       "      <td>1196</td>\n",
       "      <td>2.0</td>\n",
       "      <td>Star Wars: Episode V - The Empire Strikes Back (1980)</td>\n",
       "    </tr>\n",
       "    <tr>\n",
       "      <th>12</th>\n",
       "      <td>2959</td>\n",
       "      <td>3.0</td>\n",
       "      <td>Fight Club (1999)</td>\n",
       "    </tr>\n",
       "    <tr>\n",
       "      <th>13</th>\n",
       "      <td>589</td>\n",
       "      <td>4.0</td>\n",
       "      <td>Terminator 2: Judgment Day (1991)</td>\n",
       "    </tr>\n",
       "    <tr>\n",
       "      <th>14</th>\n",
       "      <td>1198</td>\n",
       "      <td>4.0</td>\n",
       "      <td>Raiders of the Lost Ark (Indiana Jones and the Raiders of the Lost Ark) (1981)</td>\n",
       "    </tr>\n",
       "  </tbody>\n",
       "</table>\n",
       "</div>"
      ],
      "text/plain": [
       "    movieId  rating  \\\n",
       "0       318     5.0   \n",
       "1       356     4.0   \n",
       "2       296     4.0   \n",
       "3       593     4.0   \n",
       "4      2571     4.0   \n",
       "5       260     2.0   \n",
       "6       480     3.0   \n",
       "7       527     5.0   \n",
       "8       110     3.0   \n",
       "9         1     2.0   \n",
       "10     1210     2.0   \n",
       "11     1196     2.0   \n",
       "12     2959     3.0   \n",
       "13      589     4.0   \n",
       "14     1198     4.0   \n",
       "\n",
       "                                                                             title  \n",
       "0                                                 Shawshank Redemption, The (1994)  \n",
       "1                                                              Forrest Gump (1994)  \n",
       "2                                                              Pulp Fiction (1994)  \n",
       "3                                                 Silence of the Lambs, The (1991)  \n",
       "4                                                               Matrix, The (1999)  \n",
       "5                                        Star Wars: Episode IV - A New Hope (1977)  \n",
       "6                                                             Jurassic Park (1993)  \n",
       "7                                                          Schindler's List (1993)  \n",
       "8                                                                Braveheart (1995)  \n",
       "9                                                                 Toy Story (1995)  \n",
       "10                               Star Wars: Episode VI - Return of the Jedi (1983)  \n",
       "11                           Star Wars: Episode V - The Empire Strikes Back (1980)  \n",
       "12                                                               Fight Club (1999)  \n",
       "13                                               Terminator 2: Judgment Day (1991)  \n",
       "14  Raiders of the Lost Ark (Indiana Jones and the Raiders of the Lost Ark) (1981)  "
      ]
     },
     "execution_count": 48,
     "metadata": {},
     "output_type": "execute_result"
    }
   ],
   "source": [
    "# Round to one decimal places in pandas. \n",
    "pd.options.display.float_format = '{:.1f}'.format\n",
    "\n",
    "(pd.DataFrame(user_0_ratings.items(), columns=['movieId', 'rating'])\n",
    " .merge(movies_pd[['movieId', 'title']], on='movieId', how='left'))"
   ]
  },
  {
   "cell_type": "markdown",
   "metadata": {},
   "source": [
    "Let's collect all the movie factor vectors into a pandas DataFrame, and \n",
    "let's take a look at some randomly chosen rows:"
   ]
  },
  {
   "cell_type": "code",
   "execution_count": 49,
   "metadata": {},
   "outputs": [
    {
     "data": {
      "text/html": [
       "<style  type=\"text/css\" >\n",
       "</style><table id=\"T_2e0ca8a2_371f_11eb_8416_5b617bf19894\" ><thead>    <tr>        <th class=\"col_heading level0 col0\" >movieId</th>        <th class=\"col_heading level0 col1\" >factor_vector</th>    </tr></thead><tbody>\n",
       "                <tr>\n",
       "                                <td id=\"T_2e0ca8a2_371f_11eb_8416_5b617bf19894row0_col0\" class=\"data row0 col0\" >121161</td>\n",
       "                        <td id=\"T_2e0ca8a2_371f_11eb_8416_5b617bf19894row0_col1\" class=\"data row0 col1\" >[-0.013955419883131981, 0.4760558605194092, -0.6199257969856262, -0.5415419340133667, 0.2811275124549866, 0.29199346899986267, 0.2973504662513733, 0.5428268909454346, -0.4723849296569824, 0.09645391255617142]</td>\n",
       "            </tr>\n",
       "            <tr>\n",
       "                                <td id=\"T_2e0ca8a2_371f_11eb_8416_5b617bf19894row1_col0\" class=\"data row1 col0\" >134981</td>\n",
       "                        <td id=\"T_2e0ca8a2_371f_11eb_8416_5b617bf19894row1_col1\" class=\"data row1 col1\" >[0.005047498270869255, 0.11138126254081726, -1.1755541563034058, -0.26209792494773865, -0.3048120141029358, 0.4432550370693207, 0.5188722014427185, 0.5472897887229919, -0.3723772168159485, 0.010854478925466537]</td>\n",
       "            </tr>\n",
       "            <tr>\n",
       "                                <td id=\"T_2e0ca8a2_371f_11eb_8416_5b617bf19894row2_col0\" class=\"data row2 col0\" >100450</td>\n",
       "                        <td id=\"T_2e0ca8a2_371f_11eb_8416_5b617bf19894row2_col1\" class=\"data row2 col1\" >[-0.2578720450401306, 0.5723311305046082, -1.2663880586624146, -0.19171980023384094, 0.36151787638664246, 0.592110812664032, 0.2687099874019623, 0.36365896463394165, -0.7342243194580078, -0.33686909079551697]</td>\n",
       "            </tr>\n",
       "    </tbody></table>"
      ],
      "text/plain": [
       "<pandas.io.formats.style.Styler at 0x7f7d037af670>"
      ]
     },
     "execution_count": 49,
     "metadata": {},
     "output_type": "execute_result"
    }
   ],
   "source": [
    "movie_factors_pd = (model\n",
    "                    .itemFactors\n",
    "                    .toPandas()\n",
    "                    .rename(columns={'id':'movieId', \n",
    "                                     'features':'factor_vector'}))\n",
    "movie_factors_pd.sample(3).style.hide_index()"
   ]
  },
  {
   "cell_type": "markdown",
   "metadata": {},
   "source": [
    "Let's save some pandas DataFrames for later use in the webapp:"
   ]
  },
  {
   "cell_type": "code",
   "execution_count": 50,
   "metadata": {},
   "outputs": [],
   "source": [
    "movie_factors_pd.to_hdf(\n",
    "    SAVED_MODELS_DIR_PATH.joinpath('movie_factors_titles_and_counts.hd5'), \n",
    "    key='movie_factors', \n",
    "    mode='w')\n",
    "\n",
    "movies_pd.to_hdf(\n",
    "    SAVED_MODELS_DIR_PATH.joinpath('movie_factors_titles_and_counts.hd5'), \n",
    "    key='movie_titles', \n",
    "    mode='a')\n",
    "\n",
    "ratings_count_and_avg_pd['Movies'].to_hdf(\n",
    "    SAVED_MODELS_DIR_PATH.joinpath('movie_factors_titles_and_counts.hd5'), \n",
    "    key='counts', \n",
    "    mode='a')"
   ]
  },
  {
   "cell_type": "markdown",
   "metadata": {},
   "source": [
    "Let's define a function that determines the submatrix of the movie factors \n",
    "matrix corresponding to a given list of movies:"
   ]
  },
  {
   "cell_type": "code",
   "execution_count": 51,
   "metadata": {},
   "outputs": [],
   "source": [
    "def movie_factors_submatrix(movie_list, movie_factors):\n",
    "    \"\"\"Determine the submatrix of the movie factors matrix corresponding to \n",
    "       the given list of movies.\n",
    "    \n",
    "    Parameters\n",
    "    ----------\n",
    "    movie_list : list\n",
    "                 A list of movie ids.\n",
    "        \n",
    "    movie_factors : pandas DataFrame with columns 'movieId' and \n",
    "                    'factor_vector'\n",
    "                    Movie ids and their factor vectors. It must contain all\n",
    "                    movie ids appearing in movie_list.\n",
    "                       \n",
    "    Returns\n",
    "    -------\n",
    "    H : numpy array, shape [rank, len(movie_list)]\n",
    "        Submatrix of the movie factors matrix.    \n",
    "    \"\"\"        \n",
    "    if set(movie_list).issubset(set(movie_factors['movieId'])):\n",
    "        mask = movie_factors['movieId'].isin(movie_list)\n",
    "        temp = movie_factors[mask].sort_values(by='movieId')\n",
    "        H = np.transpose(np.array(temp['factor_vector'].to_list()))    \n",
    "        return H\n",
    "    else:\n",
    "        raise Exception(\"\"\"movie_factors must contains all movie ids \n",
    "                           appearing in movie_list\"\"\") "
   ]
  },
  {
   "cell_type": "markdown",
   "metadata": {},
   "source": [
    "Let's define a function that computes an approximation of the user factor \n",
    "vector:"
   ]
  },
  {
   "cell_type": "code",
   "execution_count": 52,
   "metadata": {},
   "outputs": [],
   "source": [
    "def approx_user_factor_vector(y, H, lr=0.01, reg_param=0.1, \n",
    "                              n_iterations=10000):\n",
    "    \"\"\"Compute an approximation of the user factor vector for the given user \n",
    "       ratings and movie factors submatrix.\n",
    "    \n",
    "    Parameters\n",
    "    ----------\n",
    "    y : list, shape [n_ratings]\n",
    "        True ratings supplied by the user.\n",
    "        \n",
    "    H : numpy array, shape [rank, n_ratings]\n",
    "        Submatrix of the movie factors matrix corresponding to the movies \n",
    "        rated by the new user.\n",
    "       \n",
    "    lr : float, default 0.01\n",
    "         Learning rate.\n",
    "         \n",
    "    reg_param : float, default 0.1\n",
    "                Regularization parameter.\n",
    "                \n",
    "    n_iterations: int, default 10000\n",
    "                  Number of iterations.\n",
    "                \n",
    "    Returns\n",
    "    -------\n",
    "    theta : numpy array, shape [1, rank]\n",
    "            An approximation of the user factor vector.    \n",
    "    \"\"\"\n",
    "    y = np.array(y).reshape(1, len(y))\n",
    "    H_t = np.transpose(H)\n",
    "    rank = H.shape[0]\n",
    "    \n",
    "    # Random initialization.\n",
    "    theta = np.random.randn(1, rank) \n",
    "    \n",
    "    # Gradient descent.\n",
    "    for iteration in range(n_iterations):    \n",
    "        gradient_vector = -2 * (y - theta @ H) @ H_t + 2 * reg_param * theta\n",
    "        theta = theta - lr * gradient_vector\n",
    "    \n",
    "    return theta"
   ]
  },
  {
   "cell_type": "markdown",
   "metadata": {},
   "source": [
    "Let's define a function that computes predictions for a new user:"
   ]
  },
  {
   "cell_type": "code",
   "execution_count": 53,
   "metadata": {},
   "outputs": [],
   "source": [
    "def predictions(user_ratings, movie_factors, include_rated=False, lr=0.01, \n",
    "                reg_param=0.1, n_iterations=10000):\n",
    "    \"\"\"Make predictions based on the user-supplied ratings.\n",
    "    \n",
    "    Parameters\n",
    "    ----------\n",
    "    user_ratings : dictionary, with keys movie ids, and values the \n",
    "                   corresponding ratings\n",
    "                   Ratings supplied by the user.\n",
    "\n",
    "    movie_factors : pandas DataFrame with columns 'movieId' and \n",
    "                    'factor_vector'\n",
    "                    Movie ids and their factor vectors. It must contain all\n",
    "                    movie ids appearing in user_ratings.  \n",
    "                    \n",
    "    include_rated : boolean, default False\n",
    "                    If true, include predicted ratings for movie ids \n",
    "                    appearing in user_ratings.\n",
    "                    \n",
    "    lr : float, default 0.01\n",
    "         Learning rate.\n",
    "         \n",
    "    reg_param : float, default 0.1\n",
    "                Regularization parameter.    \n",
    "                \n",
    "    n_iterations: int, default 10000\n",
    "                  Number of iterations.\n",
    "                       \n",
    "    Returns\n",
    "    -------\n",
    "    preds : pandas DataFrame with columns 'movieId' and 'predicted_ratings'\n",
    "            Predicted ratings of all movie ids appearing in movie_factors,\n",
    "            if include_rated is true. Otherwise, predicted ratings for\n",
    "            movies appearing in user_ratings is not included.\n",
    "    \"\"\"        \n",
    "    \n",
    "    if set(user_ratings.keys()).issubset(set(movie_factors['movieId'])):\n",
    "        y = [user_ratings[key] for key in sorted(user_ratings.keys())]\n",
    "        H  = movie_factors_submatrix(movie_list=user_ratings.keys(), \n",
    "                                     movie_factors=movie_factors)\n",
    "        theta = approx_user_factor_vector(y, H, lr=lr, reg_param=reg_param)\n",
    "        \n",
    "        if include_rated:\n",
    "            movie_factors_matrix = np.transpose(\n",
    "                np.array(movie_factors['factor_vector'].to_list()))\n",
    "            preds = movie_factors[['movieId']]\n",
    "        else:\n",
    "            mask = movie_factors['movieId'].isin(user_ratings.keys())\n",
    "            mask = ~mask\n",
    "            movie_factors_matrix = np.transpose(\n",
    "                np.array(movie_factors[mask]['factor_vector'].to_list()))\n",
    "            preds = movie_factors[mask][['movieId']]            \n",
    "        V = movie_factors_matrix\n",
    "        preds['predicted_rating'] = (theta @ V).reshape(-1)    \n",
    "        return preds\n",
    "    else:\n",
    "        raise Exception(\"\"\"movie_factors must contains all movie ids \n",
    "                           appearing in user_ratings\"\"\") "
   ]
  },
  {
   "cell_type": "markdown",
   "metadata": {},
   "source": [
    "Let's compute predictions for the new user:"
   ]
  },
  {
   "cell_type": "code",
   "execution_count": 54,
   "metadata": {},
   "outputs": [],
   "source": [
    "predictions_0 = predictions(user_0_ratings, movie_factors_pd)"
   ]
  },
  {
   "cell_type": "markdown",
   "metadata": {},
   "source": [
    "Finally, let's make recommendations for the new user:"
   ]
  },
  {
   "cell_type": "code",
   "execution_count": 55,
   "metadata": {},
   "outputs": [
    {
     "data": {
      "text/html": [
       "<style  type=\"text/css\" >\n",
       "</style><table id=\"T_2e684b6c_371f_11eb_8416_5b617bf19894\" ><thead>    <tr>        <th class=\"col_heading level0 col0\" >movieId</th>        <th class=\"col_heading level0 col1\" >title</th>    </tr></thead><tbody>\n",
       "                <tr>\n",
       "                                <td id=\"T_2e684b6c_371f_11eb_8416_5b617bf19894row0_col0\" class=\"data row0 col0\" >2175</td>\n",
       "                        <td id=\"T_2e684b6c_371f_11eb_8416_5b617bf19894row0_col1\" class=\"data row0 col1\" >Déjà Vu (1997)</td>\n",
       "            </tr>\n",
       "            <tr>\n",
       "                                <td id=\"T_2e684b6c_371f_11eb_8416_5b617bf19894row1_col0\" class=\"data row1 col0\" >26453</td>\n",
       "                        <td id=\"T_2e684b6c_371f_11eb_8416_5b617bf19894row1_col1\" class=\"data row1 col1\" >Smiley's People (1982)</td>\n",
       "            </tr>\n",
       "            <tr>\n",
       "                                <td id=\"T_2e684b6c_371f_11eb_8416_5b617bf19894row2_col0\" class=\"data row2 col0\" >33124</td>\n",
       "                        <td id=\"T_2e684b6c_371f_11eb_8416_5b617bf19894row2_col1\" class=\"data row2 col1\" >Before the Fall (NaPolA - Elite für den Führer) (2004)</td>\n",
       "            </tr>\n",
       "            <tr>\n",
       "                                <td id=\"T_2e684b6c_371f_11eb_8416_5b617bf19894row3_col0\" class=\"data row3 col0\" >101850</td>\n",
       "                        <td id=\"T_2e684b6c_371f_11eb_8416_5b617bf19894row3_col1\" class=\"data row3 col1\" >Death on the Staircase (Soupçons) (2004)</td>\n",
       "            </tr>\n",
       "            <tr>\n",
       "                                <td id=\"T_2e684b6c_371f_11eb_8416_5b617bf19894row4_col0\" class=\"data row4 col0\" >57972</td>\n",
       "                        <td id=\"T_2e684b6c_371f_11eb_8416_5b617bf19894row4_col1\" class=\"data row4 col1\" >Deep Water (2006)</td>\n",
       "            </tr>\n",
       "            <tr>\n",
       "                                <td id=\"T_2e684b6c_371f_11eb_8416_5b617bf19894row5_col0\" class=\"data row5 col0\" >2673</td>\n",
       "                        <td id=\"T_2e684b6c_371f_11eb_8416_5b617bf19894row5_col1\" class=\"data row5 col1\" >Eternity and a Day (Mia aoniotita kai mia mera) (1998)</td>\n",
       "            </tr>\n",
       "            <tr>\n",
       "                                <td id=\"T_2e684b6c_371f_11eb_8416_5b617bf19894row6_col0\" class=\"data row6 col0\" >6961</td>\n",
       "                        <td id=\"T_2e684b6c_371f_11eb_8416_5b617bf19894row6_col1\" class=\"data row6 col1\" >Damage (Fatale) (1992)</td>\n",
       "            </tr>\n",
       "            <tr>\n",
       "                                <td id=\"T_2e684b6c_371f_11eb_8416_5b617bf19894row7_col0\" class=\"data row7 col0\" >823</td>\n",
       "                        <td id=\"T_2e684b6c_371f_11eb_8416_5b617bf19894row7_col1\" class=\"data row7 col1\" >Collector, The (La collectionneuse) (1967)</td>\n",
       "            </tr>\n",
       "            <tr>\n",
       "                                <td id=\"T_2e684b6c_371f_11eb_8416_5b617bf19894row8_col0\" class=\"data row8 col0\" >25901</td>\n",
       "                        <td id=\"T_2e684b6c_371f_11eb_8416_5b617bf19894row8_col1\" class=\"data row8 col1\" >Henry V (Chronicle History of King Henry the Fift with His Battell Fought at Agincourt in France, The) (1944)</td>\n",
       "            </tr>\n",
       "            <tr>\n",
       "                                <td id=\"T_2e684b6c_371f_11eb_8416_5b617bf19894row9_col0\" class=\"data row9 col0\" >3737</td>\n",
       "                        <td id=\"T_2e684b6c_371f_11eb_8416_5b617bf19894row9_col1\" class=\"data row9 col1\" >Lonely Are the Brave (1962)</td>\n",
       "            </tr>\n",
       "            <tr>\n",
       "                                <td id=\"T_2e684b6c_371f_11eb_8416_5b617bf19894row10_col0\" class=\"data row10 col0\" >93040</td>\n",
       "                        <td id=\"T_2e684b6c_371f_11eb_8416_5b617bf19894row10_col1\" class=\"data row10 col1\" >Civil War, The (1990)</td>\n",
       "            </tr>\n",
       "            <tr>\n",
       "                                <td id=\"T_2e684b6c_371f_11eb_8416_5b617bf19894row11_col0\" class=\"data row11 col0\" >5985</td>\n",
       "                        <td id=\"T_2e684b6c_371f_11eb_8416_5b617bf19894row11_col1\" class=\"data row11 col1\" >Asoka (Ashoka the Great) (2001)</td>\n",
       "            </tr>\n",
       "            <tr>\n",
       "                                <td id=\"T_2e684b6c_371f_11eb_8416_5b617bf19894row12_col0\" class=\"data row12 col0\" >105250</td>\n",
       "                        <td id=\"T_2e684b6c_371f_11eb_8416_5b617bf19894row12_col1\" class=\"data row12 col1\" >Century of the Self, The (2002)</td>\n",
       "            </tr>\n",
       "            <tr>\n",
       "                                <td id=\"T_2e684b6c_371f_11eb_8416_5b617bf19894row13_col0\" class=\"data row13 col0\" >53</td>\n",
       "                        <td id=\"T_2e684b6c_371f_11eb_8416_5b617bf19894row13_col1\" class=\"data row13 col1\" >Lamerica (1994)</td>\n",
       "            </tr>\n",
       "            <tr>\n",
       "                                <td id=\"T_2e684b6c_371f_11eb_8416_5b617bf19894row14_col0\" class=\"data row14 col0\" >6599</td>\n",
       "                        <td id=\"T_2e684b6c_371f_11eb_8416_5b617bf19894row14_col1\" class=\"data row14 col1\" >Accattone (1961)</td>\n",
       "            </tr>\n",
       "    </tbody></table>"
      ],
      "text/plain": [
       "<pandas.io.formats.style.Styler at 0x7f7cefaa4880>"
      ]
     },
     "execution_count": 55,
     "metadata": {},
     "output_type": "execute_result"
    }
   ],
   "source": [
    "temp = (predictions_0              \n",
    "        .merge(movies_pd[['movieId', 'title']], on='movieId', how='left')\n",
    "        .merge(ratings_count_and_avg_pd['Movies'], on='movieId', how='left'))\n",
    "mask = temp['num_of_ratings'] >= 100\n",
    "(temp[mask]\n",
    " .sort_values(by='predicted_rating', ascending=False) \n",
    " .drop(columns=['predicted_rating', 'num_of_ratings', 'avg_rating'])\n",
    " .head(15)\n",
    " .style.hide_index())"
   ]
  },
  {
   "cell_type": "code",
   "execution_count": 56,
   "metadata": {},
   "outputs": [],
   "source": [
    "spark.stop()"
   ]
  }
 ],
 "metadata": {
  "kernelspec": {
   "display_name": "Python 3",
   "language": "python",
   "name": "python3"
  },
  "language_info": {
   "codemirror_mode": {
    "name": "ipython",
    "version": 3
   },
   "file_extension": ".py",
   "mimetype": "text/x-python",
   "name": "python",
   "nbconvert_exporter": "python",
   "pygments_lexer": "ipython3",
   "version": "3.8.3"
  }
 },
 "nbformat": 4,
 "nbformat_minor": 4
}
